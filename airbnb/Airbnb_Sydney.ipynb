{
  "nbformat": 4,
  "nbformat_minor": 0,
  "metadata": {
    "colab": {
      "name": "Airbnb-Sydney.ipynb",
      "provenance": [],
      "toc_visible": true,
      "authorship_tag": "ABX9TyMn60cvLD88byjXCxKHoyVc",
      "include_colab_link": true
    },
    "kernelspec": {
      "name": "python3",
      "display_name": "Python 3"
    }
  },
  "cells": [
    {
      "cell_type": "markdown",
      "metadata": {
        "id": "view-in-github",
        "colab_type": "text"
      },
      "source": [
        "<a href=\"https://colab.research.google.com/github/josepefg/analises-de-dados/blob/master/airbnb/Airbnb_Sydney.ipynb\" target=\"_parent\"><img src=\"https://colab.research.google.com/assets/colab-badge.svg\" alt=\"Open In Colab\"/></a>"
      ]
    },
    {
      "cell_type": "markdown",
      "metadata": {
        "id": "0o2iney-UUBk",
        "colab_type": "text"
      },
      "source": [
        "<a href=\"https://www.linkedin.com/in/josepegerent\"> <img border=\"0\" alt=\"Linkedin\" src=\"https://img.shields.io/badge/Autor-josepefg-red.svg\"> </a>\n",
        "# **Análise do Airbnb**  \n",
        "Sydney\n",
        "Airbnb"
      ]
    },
    {
      "cell_type": "markdown",
      "metadata": {
        "id": "V4VAxOs1Uk9A",
        "colab_type": "text"
      },
      "source": [
        "# **Obtenção dos dados**  "
      ]
    },
    {
      "cell_type": "code",
      "metadata": {
        "id": "zjs6n1q-UFUU",
        "colab_type": "code",
        "colab": {
          "base_uri": "https://localhost:8080/",
          "height": 74
        },
        "outputId": "1b04f684-5547-4c12-f6b1-58c769880ccd"
      },
      "source": [
        "# importar os pacotes necessários\n",
        "import pandas as pd\n",
        "import matplotlib.pyplot as plt\n",
        "import seaborn as sns\n",
        "\n",
        "%matplotlib inline"
      ],
      "execution_count": 1,
      "outputs": [
        {
          "output_type": "stream",
          "text": [
            "/usr/local/lib/python3.6/dist-packages/statsmodels/tools/_testing.py:19: FutureWarning: pandas.util.testing is deprecated. Use the functions in the public API at pandas.testing instead.\n",
            "  import pandas.util.testing as tm\n"
          ],
          "name": "stderr"
        }
      ]
    },
    {
      "cell_type": "code",
      "metadata": {
        "id": "Wqi33-JwU08e",
        "colab_type": "code",
        "colab": {}
      },
      "source": [
        "# importar o arquivo listings.csv para um DataFrame\n",
        "df = pd.read_csv(\"http://data.insideairbnb.com/australia/nsw/sydney/2020-06-11/visualisations/listings.csv\")"
      ],
      "execution_count": 2,
      "outputs": []
    },
    {
      "cell_type": "markdown",
      "metadata": {
        "id": "mubtH6NBVH85",
        "colab_type": "text"
      },
      "source": [
        "# **Análise dos dados**"
      ]
    },
    {
      "cell_type": "markdown",
      "metadata": {
        "id": "RYgvuebKNg8-",
        "colab_type": "text"
      },
      "source": [
        "**Dicionário das variáveis**\n",
        "\n",
        "* `id` - número de id gerado para identificar o imóvel\n",
        "* `name` - nome da propriedade anunciada\n",
        "* `host_id` - número de id do proprietário (anfitrião) da propriedade\n",
        "* `host_name` - Nome do anfitrião\n",
        "* `neighbourhood_group` - esta coluna não contém nenhum valor válido\n",
        "* `neighbourhood` - nome do bairro\n",
        "* `latitude` - coordenada da latitude da propriedade\n",
        "* `longitude` - coordenada da longitude da propriedade\n",
        "* `room_type` - informa o tipo de quarto que é oferecido\n",
        "* `price` - preço para alugar o imóvel\n",
        "* `minimum_nights` - quantidade mínima de noites para reservar\n",
        "* `number_of_reviews` - número de reviews que a propriedade possui\n",
        "* `last_review` - data do último review\n",
        "* `reviews_per_month` - quantidade de reviews por mês\n",
        "* `calculated_host_listings_count` - quantidade de imóveis do mesmo anfitrião\n",
        "* `availability_365` - número de dias de disponibilidade dentro de 365 dias\n",
        "\n",
        "Antes de iniciar qualquer análise, vamos verificar a cara do nosso *dataset*, analisando as 5 primeiras entradas."
      ]
    },
    {
      "cell_type": "code",
      "metadata": {
        "id": "1i9L8VYwWJjp",
        "colab_type": "code",
        "colab": {
          "base_uri": "https://localhost:8080/",
          "height": 391
        },
        "outputId": "59839f88-47da-4c30-f4fd-f04a73d42226"
      },
      "source": [
        "df.head()"
      ],
      "execution_count": 3,
      "outputs": [
        {
          "output_type": "execute_result",
          "data": {
            "text/html": [
              "<div>\n",
              "<style scoped>\n",
              "    .dataframe tbody tr th:only-of-type {\n",
              "        vertical-align: middle;\n",
              "    }\n",
              "\n",
              "    .dataframe tbody tr th {\n",
              "        vertical-align: top;\n",
              "    }\n",
              "\n",
              "    .dataframe thead th {\n",
              "        text-align: right;\n",
              "    }\n",
              "</style>\n",
              "<table border=\"1\" class=\"dataframe\">\n",
              "  <thead>\n",
              "    <tr style=\"text-align: right;\">\n",
              "      <th></th>\n",
              "      <th>id</th>\n",
              "      <th>name</th>\n",
              "      <th>host_id</th>\n",
              "      <th>host_name</th>\n",
              "      <th>neighbourhood_group</th>\n",
              "      <th>neighbourhood</th>\n",
              "      <th>latitude</th>\n",
              "      <th>longitude</th>\n",
              "      <th>room_type</th>\n",
              "      <th>price</th>\n",
              "      <th>minimum_nights</th>\n",
              "      <th>number_of_reviews</th>\n",
              "      <th>last_review</th>\n",
              "      <th>reviews_per_month</th>\n",
              "      <th>calculated_host_listings_count</th>\n",
              "      <th>availability_365</th>\n",
              "    </tr>\n",
              "  </thead>\n",
              "  <tbody>\n",
              "    <tr>\n",
              "      <th>0</th>\n",
              "      <td>11156</td>\n",
              "      <td>An Oasis in the City</td>\n",
              "      <td>40855</td>\n",
              "      <td>Colleen</td>\n",
              "      <td>NaN</td>\n",
              "      <td>Sydney</td>\n",
              "      <td>-33.86917</td>\n",
              "      <td>151.22656</td>\n",
              "      <td>Private room</td>\n",
              "      <td>64</td>\n",
              "      <td>2</td>\n",
              "      <td>196</td>\n",
              "      <td>2020-03-13</td>\n",
              "      <td>1.53</td>\n",
              "      <td>1</td>\n",
              "      <td>364</td>\n",
              "    </tr>\n",
              "    <tr>\n",
              "      <th>1</th>\n",
              "      <td>12351</td>\n",
              "      <td>Sydney City &amp; Harbour at the door</td>\n",
              "      <td>17061</td>\n",
              "      <td>Stuart</td>\n",
              "      <td>NaN</td>\n",
              "      <td>Sydney</td>\n",
              "      <td>-33.86515</td>\n",
              "      <td>151.19190</td>\n",
              "      <td>Private room</td>\n",
              "      <td>14314</td>\n",
              "      <td>2</td>\n",
              "      <td>526</td>\n",
              "      <td>2019-09-22</td>\n",
              "      <td>4.37</td>\n",
              "      <td>2</td>\n",
              "      <td>0</td>\n",
              "    </tr>\n",
              "    <tr>\n",
              "      <th>2</th>\n",
              "      <td>14250</td>\n",
              "      <td>Manly Harbour House</td>\n",
              "      <td>55948</td>\n",
              "      <td>Heidi</td>\n",
              "      <td>NaN</td>\n",
              "      <td>Manly</td>\n",
              "      <td>-33.80093</td>\n",
              "      <td>151.26172</td>\n",
              "      <td>Entire home/apt</td>\n",
              "      <td>471</td>\n",
              "      <td>5</td>\n",
              "      <td>2</td>\n",
              "      <td>2019-01-02</td>\n",
              "      <td>0.04</td>\n",
              "      <td>2</td>\n",
              "      <td>173</td>\n",
              "    </tr>\n",
              "    <tr>\n",
              "      <th>3</th>\n",
              "      <td>44545</td>\n",
              "      <td>Sunny Darlinghurst Warehouse Apartment</td>\n",
              "      <td>112237</td>\n",
              "      <td>Atari</td>\n",
              "      <td>NaN</td>\n",
              "      <td>Sydney</td>\n",
              "      <td>-33.87888</td>\n",
              "      <td>151.21439</td>\n",
              "      <td>Entire home/apt</td>\n",
              "      <td>130</td>\n",
              "      <td>3</td>\n",
              "      <td>76</td>\n",
              "      <td>2020-01-03</td>\n",
              "      <td>0.65</td>\n",
              "      <td>1</td>\n",
              "      <td>0</td>\n",
              "    </tr>\n",
              "    <tr>\n",
              "      <th>4</th>\n",
              "      <td>58506</td>\n",
              "      <td>Studio Yindi @ Mosman, Sydney</td>\n",
              "      <td>279955</td>\n",
              "      <td>John</td>\n",
              "      <td>NaN</td>\n",
              "      <td>Mosman</td>\n",
              "      <td>-33.81927</td>\n",
              "      <td>151.23652</td>\n",
              "      <td>Entire home/apt</td>\n",
              "      <td>140</td>\n",
              "      <td>2</td>\n",
              "      <td>280</td>\n",
              "      <td>2020-04-23</td>\n",
              "      <td>2.43</td>\n",
              "      <td>1</td>\n",
              "      <td>267</td>\n",
              "    </tr>\n",
              "  </tbody>\n",
              "</table>\n",
              "</div>"
            ],
            "text/plain": [
              "      id  ... availability_365\n",
              "0  11156  ...              364\n",
              "1  12351  ...                0\n",
              "2  14250  ...              173\n",
              "3  44545  ...                0\n",
              "4  58506  ...              267\n",
              "\n",
              "[5 rows x 16 columns]"
            ]
          },
          "metadata": {
            "tags": []
          },
          "execution_count": 3
        }
      ]
    },
    {
      "cell_type": "markdown",
      "metadata": {
        "id": "59b3AkRXV4Ew",
        "colab_type": "text"
      },
      "source": [
        "## Quais as dimensões do dataset?"
      ]
    },
    {
      "cell_type": "code",
      "metadata": {
        "id": "UVWc_P5bV7ou",
        "colab_type": "code",
        "colab": {
          "base_uri": "https://localhost:8080/",
          "height": 35
        },
        "outputId": "a1e60454-afd5-4de7-829f-400b4309bb4d"
      },
      "source": [
        "df.shape"
      ],
      "execution_count": 4,
      "outputs": [
        {
          "output_type": "execute_result",
          "data": {
            "text/plain": [
              "(36901, 16)"
            ]
          },
          "metadata": {
            "tags": []
          },
          "execution_count": 4
        }
      ]
    },
    {
      "cell_type": "markdown",
      "metadata": {
        "id": "UvkZaNxTVmbx",
        "colab_type": "text"
      },
      "source": [
        "## Quais os tipos das colunas?"
      ]
    },
    {
      "cell_type": "code",
      "metadata": {
        "id": "pHNDURAaU_6Q",
        "colab_type": "code",
        "colab": {
          "base_uri": "https://localhost:8080/",
          "height": 435
        },
        "outputId": "a34baee1-ea84-4da6-a97e-8f3a8b28e88b"
      },
      "source": [
        "df.info()"
      ],
      "execution_count": 5,
      "outputs": [
        {
          "output_type": "stream",
          "text": [
            "<class 'pandas.core.frame.DataFrame'>\n",
            "RangeIndex: 36901 entries, 0 to 36900\n",
            "Data columns (total 16 columns):\n",
            " #   Column                          Non-Null Count  Dtype  \n",
            "---  ------                          --------------  -----  \n",
            " 0   id                              36901 non-null  int64  \n",
            " 1   name                            36889 non-null  object \n",
            " 2   host_id                         36901 non-null  int64  \n",
            " 3   host_name                       36894 non-null  object \n",
            " 4   neighbourhood_group             0 non-null      float64\n",
            " 5   neighbourhood                   36901 non-null  object \n",
            " 6   latitude                        36901 non-null  float64\n",
            " 7   longitude                       36901 non-null  float64\n",
            " 8   room_type                       36901 non-null  object \n",
            " 9   price                           36901 non-null  int64  \n",
            " 10  minimum_nights                  36901 non-null  int64  \n",
            " 11  number_of_reviews               36901 non-null  int64  \n",
            " 12  last_review                     26628 non-null  object \n",
            " 13  reviews_per_month               26628 non-null  float64\n",
            " 14  calculated_host_listings_count  36901 non-null  int64  \n",
            " 15  availability_365                36901 non-null  int64  \n",
            "dtypes: float64(4), int64(7), object(5)\n",
            "memory usage: 4.5+ MB\n"
          ],
          "name": "stdout"
        }
      ]
    },
    {
      "cell_type": "markdown",
      "metadata": {
        "id": "EHQh9yy-WRIf",
        "colab_type": "text"
      },
      "source": [
        "Aqui já podemos perceber que a coluna neighbourhood_group não tem nenhum valor preenchido, então já é uma candidata a ser excluída."
      ]
    },
    {
      "cell_type": "markdown",
      "metadata": {
        "id": "BVI6sx9FYFYS",
        "colab_type": "text"
      },
      "source": [
        "## Qual a porcentagem de valores ausentes de cada coluna?"
      ]
    },
    {
      "cell_type": "code",
      "metadata": {
        "id": "zhNZbf-NWQnS",
        "colab_type": "code",
        "colab": {
          "base_uri": "https://localhost:8080/",
          "height": 326
        },
        "outputId": "cf0b3f96-c76d-460e-d3a6-e63a6fe8516a"
      },
      "source": [
        "# ordenar em ordem decrescente as variáveis por seus valores ausentes\n",
        "(df.isnull().sum() / df.shape[0]).sort_values(ascending=False)"
      ],
      "execution_count": 6,
      "outputs": [
        {
          "output_type": "execute_result",
          "data": {
            "text/plain": [
              "neighbourhood_group               1.000000\n",
              "reviews_per_month                 0.278394\n",
              "last_review                       0.278394\n",
              "name                              0.000325\n",
              "host_name                         0.000190\n",
              "availability_365                  0.000000\n",
              "calculated_host_listings_count    0.000000\n",
              "number_of_reviews                 0.000000\n",
              "minimum_nights                    0.000000\n",
              "price                             0.000000\n",
              "room_type                         0.000000\n",
              "longitude                         0.000000\n",
              "latitude                          0.000000\n",
              "neighbourhood                     0.000000\n",
              "host_id                           0.000000\n",
              "id                                0.000000\n",
              "dtype: float64"
            ]
          },
          "metadata": {
            "tags": []
          },
          "execution_count": 6
        }
      ]
    },
    {
      "cell_type": "markdown",
      "metadata": {
        "id": "OZkdqs8eY7dN",
        "colab_type": "text"
      },
      "source": [
        "## Como estão distribuídas as variáveis?"
      ]
    },
    {
      "cell_type": "code",
      "metadata": {
        "id": "oHZDMmUoY2L8",
        "colab_type": "code",
        "colab": {
          "base_uri": "https://localhost:8080/",
          "height": 607
        },
        "outputId": "80c94fdb-80aa-4c3a-8f51-492fe059adc4"
      },
      "source": [
        "# plotar o histograma das variáveis numéricas\n",
        "df.hist(bins=15, figsize=(15,10));"
      ],
      "execution_count": 7,
      "outputs": [
        {
          "output_type": "display_data",
          "data": {
            "image/png": "[encoded data removed]",
            "text/plain": [
              "<Figure size 1080x720 with 12 Axes>"
            ]
          },
          "metadata": {
            "tags": [],
            "needs_background": "light"
          }
        }
      ]
    },
    {
      "cell_type": "markdown",
      "metadata": {
        "id": "5Czm4ZUmZe6u",
        "colab_type": "text"
      },
      "source": [
        "## Há outliers nesse dataset?"
      ]
    },
    {
      "cell_type": "markdown",
      "metadata": {
        "id": "6qzvUAGJZlZJ",
        "colab_type": "text"
      },
      "source": [
        "### Resumo estatístico."
      ]
    },
    {
      "cell_type": "code",
      "metadata": {
        "id": "rq_CutEmVr2-",
        "colab_type": "code",
        "colab": {
          "base_uri": "https://localhost:8080/",
          "height": 308
        },
        "outputId": "fe672992-d7ac-42d7-8cf0-bc7a4d7f3124"
      },
      "source": [
        "# resumo estatístico dos dados numéricos\n",
        "df.describe()"
      ],
      "execution_count": 42,
      "outputs": [
        {
          "output_type": "execute_result",
          "data": {
            "text/html": [
              "<div>\n",
              "<style scoped>\n",
              "    .dataframe tbody tr th:only-of-type {\n",
              "        vertical-align: middle;\n",
              "    }\n",
              "\n",
              "    .dataframe tbody tr th {\n",
              "        vertical-align: top;\n",
              "    }\n",
              "\n",
              "    .dataframe thead th {\n",
              "        text-align: right;\n",
              "    }\n",
              "</style>\n",
              "<table border=\"1\" class=\"dataframe\">\n",
              "  <thead>\n",
              "    <tr style=\"text-align: right;\">\n",
              "      <th></th>\n",
              "      <th>id</th>\n",
              "      <th>host_id</th>\n",
              "      <th>neighbourhood_group</th>\n",
              "      <th>latitude</th>\n",
              "      <th>longitude</th>\n",
              "      <th>price</th>\n",
              "      <th>minimum_nights</th>\n",
              "      <th>number_of_reviews</th>\n",
              "      <th>reviews_per_month</th>\n",
              "      <th>calculated_host_listings_count</th>\n",
              "      <th>availability_365</th>\n",
              "    </tr>\n",
              "  </thead>\n",
              "  <tbody>\n",
              "    <tr>\n",
              "      <th>count</th>\n",
              "      <td>3.690100e+04</td>\n",
              "      <td>3.690100e+04</td>\n",
              "      <td>0.0</td>\n",
              "      <td>36901.000000</td>\n",
              "      <td>36901.000000</td>\n",
              "      <td>36901.000000</td>\n",
              "      <td>36901.000000</td>\n",
              "      <td>36901.000000</td>\n",
              "      <td>26628.000000</td>\n",
              "      <td>36901.000000</td>\n",
              "      <td>36901.000000</td>\n",
              "    </tr>\n",
              "    <tr>\n",
              "      <th>mean</th>\n",
              "      <td>2.453288e+07</td>\n",
              "      <td>9.131863e+07</td>\n",
              "      <td>NaN</td>\n",
              "      <td>-33.863215</td>\n",
              "      <td>151.198786</td>\n",
              "      <td>227.003333</td>\n",
              "      <td>6.106257</td>\n",
              "      <td>14.866995</td>\n",
              "      <td>0.784623</td>\n",
              "      <td>7.252134</td>\n",
              "      <td>95.462697</td>\n",
              "    </tr>\n",
              "    <tr>\n",
              "      <th>std</th>\n",
              "      <td>1.228760e+07</td>\n",
              "      <td>9.191494e+07</td>\n",
              "      <td>NaN</td>\n",
              "      <td>0.072964</td>\n",
              "      <td>0.088700</td>\n",
              "      <td>443.456850</td>\n",
              "      <td>27.658358</td>\n",
              "      <td>36.144464</td>\n",
              "      <td>1.172487</td>\n",
              "      <td>22.746438</td>\n",
              "      <td>129.994717</td>\n",
              "    </tr>\n",
              "    <tr>\n",
              "      <th>min</th>\n",
              "      <td>1.115600e+04</td>\n",
              "      <td>1.409300e+04</td>\n",
              "      <td>NaN</td>\n",
              "      <td>-34.135590</td>\n",
              "      <td>150.601470</td>\n",
              "      <td>0.000000</td>\n",
              "      <td>1.000000</td>\n",
              "      <td>0.000000</td>\n",
              "      <td>0.010000</td>\n",
              "      <td>1.000000</td>\n",
              "      <td>0.000000</td>\n",
              "    </tr>\n",
              "    <tr>\n",
              "      <th>25%</th>\n",
              "      <td>1.499574e+07</td>\n",
              "      <td>1.828597e+07</td>\n",
              "      <td>NaN</td>\n",
              "      <td>-33.899450</td>\n",
              "      <td>151.175530</td>\n",
              "      <td>79.000000</td>\n",
              "      <td>1.000000</td>\n",
              "      <td>0.000000</td>\n",
              "      <td>0.100000</td>\n",
              "      <td>1.000000</td>\n",
              "      <td>0.000000</td>\n",
              "    </tr>\n",
              "    <tr>\n",
              "      <th>50%</th>\n",
              "      <td>2.379250e+07</td>\n",
              "      <td>5.116167e+07</td>\n",
              "      <td>NaN</td>\n",
              "      <td>-33.882000</td>\n",
              "      <td>151.213460</td>\n",
              "      <td>130.000000</td>\n",
              "      <td>2.000000</td>\n",
              "      <td>2.000000</td>\n",
              "      <td>0.300000</td>\n",
              "      <td>1.000000</td>\n",
              "      <td>0.000000</td>\n",
              "    </tr>\n",
              "    <tr>\n",
              "      <th>75%</th>\n",
              "      <td>3.577880e+07</td>\n",
              "      <td>1.506891e+08</td>\n",
              "      <td>NaN</td>\n",
              "      <td>-33.829520</td>\n",
              "      <td>151.258910</td>\n",
              "      <td>220.000000</td>\n",
              "      <td>5.000000</td>\n",
              "      <td>11.000000</td>\n",
              "      <td>0.990000</td>\n",
              "      <td>2.000000</td>\n",
              "      <td>178.000000</td>\n",
              "    </tr>\n",
              "    <tr>\n",
              "      <th>max</th>\n",
              "      <td>4.373676e+07</td>\n",
              "      <td>3.492491e+08</td>\n",
              "      <td>NaN</td>\n",
              "      <td>-33.390750</td>\n",
              "      <td>151.339870</td>\n",
              "      <td>15000.000000</td>\n",
              "      <td>1125.000000</td>\n",
              "      <td>657.000000</td>\n",
              "      <td>28.820000</td>\n",
              "      <td>176.000000</td>\n",
              "      <td>365.000000</td>\n",
              "    </tr>\n",
              "  </tbody>\n",
              "</table>\n",
              "</div>"
            ],
            "text/plain": [
              "                 id  ...  availability_365\n",
              "count  3.690100e+04  ...      36901.000000\n",
              "mean   2.453288e+07  ...         95.462697\n",
              "std    1.228760e+07  ...        129.994717\n",
              "min    1.115600e+04  ...          0.000000\n",
              "25%    1.499574e+07  ...          0.000000\n",
              "50%    2.379250e+07  ...          0.000000\n",
              "75%    3.577880e+07  ...        178.000000\n",
              "max    4.373676e+07  ...        365.000000\n",
              "\n",
              "[8 rows x 11 columns]"
            ]
          },
          "metadata": {
            "tags": []
          },
          "execution_count": 42
        }
      ]
    },
    {
      "cell_type": "code",
      "metadata": {
        "id": "vt01vkZvZpQs",
        "colab_type": "code",
        "colab": {
          "base_uri": "https://localhost:8080/",
          "height": 168
        },
        "outputId": "3b5133cd-e0fe-402d-ebf4-a7c7299362c1"
      },
      "source": [
        "# estatística dos dados categóricos\n",
        "df.describe(include=['O'])"
      ],
      "execution_count": 9,
      "outputs": [
        {
          "output_type": "execute_result",
          "data": {
            "text/html": [
              "<div>\n",
              "<style scoped>\n",
              "    .dataframe tbody tr th:only-of-type {\n",
              "        vertical-align: middle;\n",
              "    }\n",
              "\n",
              "    .dataframe tbody tr th {\n",
              "        vertical-align: top;\n",
              "    }\n",
              "\n",
              "    .dataframe thead th {\n",
              "        text-align: right;\n",
              "    }\n",
              "</style>\n",
              "<table border=\"1\" class=\"dataframe\">\n",
              "  <thead>\n",
              "    <tr style=\"text-align: right;\">\n",
              "      <th></th>\n",
              "      <th>name</th>\n",
              "      <th>host_name</th>\n",
              "      <th>neighbourhood</th>\n",
              "      <th>room_type</th>\n",
              "      <th>last_review</th>\n",
              "    </tr>\n",
              "  </thead>\n",
              "  <tbody>\n",
              "    <tr>\n",
              "      <th>count</th>\n",
              "      <td>36889</td>\n",
              "      <td>36894</td>\n",
              "      <td>36901</td>\n",
              "      <td>36901</td>\n",
              "      <td>26628</td>\n",
              "    </tr>\n",
              "    <tr>\n",
              "      <th>unique</th>\n",
              "      <td>35976</td>\n",
              "      <td>8205</td>\n",
              "      <td>38</td>\n",
              "      <td>4</td>\n",
              "      <td>1868</td>\n",
              "    </tr>\n",
              "    <tr>\n",
              "      <th>top</th>\n",
              "      <td>Home away from home</td>\n",
              "      <td>David</td>\n",
              "      <td>Sydney</td>\n",
              "      <td>Entire home/apt</td>\n",
              "      <td>2020-01-01</td>\n",
              "    </tr>\n",
              "    <tr>\n",
              "      <th>freq</th>\n",
              "      <td>22</td>\n",
              "      <td>344</td>\n",
              "      <td>9364</td>\n",
              "      <td>22641</td>\n",
              "      <td>447</td>\n",
              "    </tr>\n",
              "  </tbody>\n",
              "</table>\n",
              "</div>"
            ],
            "text/plain": [
              "                       name host_name  ...        room_type last_review\n",
              "count                 36889     36894  ...            36901       26628\n",
              "unique                35976      8205  ...                4        1868\n",
              "top     Home away from home     David  ...  Entire home/apt  2020-01-01\n",
              "freq                     22       344  ...            22641         447\n",
              "\n",
              "[4 rows x 5 columns]"
            ]
          },
          "metadata": {
            "tags": []
          },
          "execution_count": 9
        }
      ]
    },
    {
      "cell_type": "markdown",
      "metadata": {
        "id": "vPgdXq80bEOf",
        "colab_type": "text"
      },
      "source": [
        "### Boxplots e IQR das variáveis com outliers."
      ]
    },
    {
      "cell_type": "markdown",
      "metadata": {
        "id": "KYsiWi1XNbES",
        "colab_type": "text"
      },
      "source": [
        "#### Boxplots"
      ]
    },
    {
      "cell_type": "markdown",
      "metadata": {
        "id": "xaxjHV4KcJiA",
        "colab_type": "text"
      },
      "source": [
        "#### price"
      ]
    },
    {
      "cell_type": "code",
      "metadata": {
        "id": "ig26ftw7ZzCd",
        "colab_type": "code",
        "colab": {
          "base_uri": "https://localhost:8080/",
          "height": 211
        },
        "outputId": "074be0fc-0963-4832-eae9-5dca4ff97487"
      },
      "source": [
        "# price\n",
        "df.price.plot(kind='box', vert=False, figsize=(15, 3),)\n",
        "plt.show()"
      ],
      "execution_count": 52,
      "outputs": [
        {
          "output_type": "display_data",
          "data": {
            "image/png": "[encoded data removed]",
            "text/plain": [
              "<Figure size 1080x216 with 1 Axes>"
            ]
          },
          "metadata": {
            "tags": [],
            "needs_background": "light"
          }
        }
      ]
    },
    {
      "cell_type": "markdown",
      "metadata": {
        "id": "wlczxBqHcN2y",
        "colab_type": "text"
      },
      "source": [
        "#### minimun_nights"
      ]
    },
    {
      "cell_type": "code",
      "metadata": {
        "id": "BVOpuw20bUlL",
        "colab_type": "code",
        "colab": {
          "base_uri": "https://localhost:8080/",
          "height": 205
        },
        "outputId": "e845aef8-25e0-40d6-bfcc-280424f16471"
      },
      "source": [
        "# minimum_nights\n",
        "df.minimum_nights.plot(kind='box', vert=False, figsize=(15, 3))\n",
        "plt.show()"
      ],
      "execution_count": 53,
      "outputs": [
        {
          "output_type": "display_data",
          "data": {
            "image/png": "[encoded data removed]",
            "text/plain": [
              "<Figure size 1080x216 with 1 Axes>"
            ]
          },
          "metadata": {
            "tags": [],
            "needs_background": "light"
          }
        }
      ]
    },
    {
      "cell_type": "markdown",
      "metadata": {
        "id": "rs91gmqBcwEB",
        "colab_type": "text"
      },
      "source": [
        "#### number_of_reviews"
      ]
    },
    {
      "cell_type": "code",
      "metadata": {
        "id": "eVceKNfWchfM",
        "colab_type": "code",
        "colab": {
          "base_uri": "https://localhost:8080/",
          "height": 202
        },
        "outputId": "65952c0b-6a0b-463e-f8bb-df576bc7ee68"
      },
      "source": [
        "# number_of_reviews\n",
        "df.number_of_reviews.plot(kind='box', vert=False, figsize=(15, 3))\n",
        "plt.show()"
      ],
      "execution_count": 54,
      "outputs": [
        {
          "output_type": "display_data",
          "data": {
            "image/png": "[encoded data removed]",
            "text/plain": [
              "<Figure size 1080x216 with 1 Axes>"
            ]
          },
          "metadata": {
            "tags": [],
            "needs_background": "light"
          }
        }
      ]
    },
    {
      "cell_type": "markdown",
      "metadata": {
        "id": "vakLFQpndKtC",
        "colab_type": "text"
      },
      "source": [
        "#### reviews_per_month"
      ]
    },
    {
      "cell_type": "code",
      "metadata": {
        "id": "pkZj4n2pdF5i",
        "colab_type": "code",
        "colab": {
          "base_uri": "https://localhost:8080/",
          "height": 202
        },
        "outputId": "d0b43b3f-142b-4be5-d08a-724268c4f635"
      },
      "source": [
        "# reviews_per_month\n",
        "df.reviews_per_month.plot(kind='box', vert=False, figsize=(15, 3))\n",
        "plt.show()"
      ],
      "execution_count": 55,
      "outputs": [
        {
          "output_type": "display_data",
          "data": {
            "image/png": "[encoded data removed]",
            "text/plain": [
              "<Figure size 1080x216 with 1 Axes>"
            ]
          },
          "metadata": {
            "tags": [],
            "needs_background": "light"
          }
        }
      ]
    },
    {
      "cell_type": "markdown",
      "metadata": {
        "id": "hAdCMJAceOu5",
        "colab_type": "text"
      },
      "source": [
        "#### calculated_host_listings_count"
      ]
    },
    {
      "cell_type": "code",
      "metadata": {
        "id": "j2zNvb6UdbZI",
        "colab_type": "code",
        "colab": {
          "base_uri": "https://localhost:8080/",
          "height": 192
        },
        "outputId": "c6fb2319-1917-45ab-f7d5-0224252da6db"
      },
      "source": [
        "# calculated_host_listings_count\n",
        "df.calculated_host_listings_count.plot(kind='box', vert=False, figsize=(15, 3))\n",
        "plt.show()"
      ],
      "execution_count": 59,
      "outputs": [
        {
          "output_type": "display_data",
          "data": {
            "image/png": "[encoded data removed]",
            "text/plain": [
              "<Figure size 1080x216 with 1 Axes>"
            ]
          },
          "metadata": {
            "tags": [],
            "needs_background": "light"
          }
        }
      ]
    },
    {
      "cell_type": "markdown",
      "metadata": {
        "id": "6TU0SthKet-5",
        "colab_type": "text"
      },
      "source": [
        "#### availability_365"
      ]
    },
    {
      "cell_type": "code",
      "metadata": {
        "id": "-viTvu-Kees7",
        "colab_type": "code",
        "colab": {
          "base_uri": "https://localhost:8080/",
          "height": 205
        },
        "outputId": "bbd904ef-1b74-4c72-94e2-333d77106652"
      },
      "source": [
        "# availability_365\n",
        "df.availability_365.plot(kind='box', vert=False, figsize=(15, 3))\n",
        "plt.show()"
      ],
      "execution_count": 60,
      "outputs": [
        {
          "output_type": "display_data",
          "data": {
            "image/png": "[encoded data removed]",
            "text/plain": [
              "<Figure size 1080x216 with 1 Axes>"
            ]
          },
          "metadata": {
            "tags": [],
            "needs_background": "light"
          }
        }
      ]
    },
    {
      "cell_type": "markdown",
      "metadata": {
        "id": "ZYQE7jBgJ2kH",
        "colab_type": "text"
      },
      "source": [
        "#### IQR"
      ]
    },
    {
      "cell_type": "code",
      "metadata": {
        "id": "dsBAVPdEKabz",
        "colab_type": "code",
        "colab": {}
      },
      "source": [
        "# Selecionando as colunas a serem limpas\n",
        "cols = ['price', 'minimum_nights', 'number_of_reviews',\t'reviews_per_month', 'calculated_host_listings_count',\t'availability_365']\n",
        "df_sel = df[cols]"
      ],
      "execution_count": 37,
      "outputs": []
    },
    {
      "cell_type": "code",
      "metadata": {
        "id": "l965qo6iHqi_",
        "colab_type": "code",
        "colab": {
          "base_uri": "https://localhost:8080/",
          "height": 145
        },
        "outputId": "f6265d79-e8fe-4eed-d52a-b09d045ebca5"
      },
      "source": [
        "Q1 = df_sel.quantile(0.25)\n",
        "Q3 = df_sel.quantile(0.75)\n",
        "IQR = Q3 - Q1\n",
        "print(IQR)"
      ],
      "execution_count": 41,
      "outputs": [
        {
          "output_type": "stream",
          "text": [
            "price                             141.00\n",
            "minimum_nights                      4.00\n",
            "number_of_reviews                  11.00\n",
            "reviews_per_month                   0.89\n",
            "calculated_host_listings_count      1.00\n",
            "availability_365                  178.00\n",
            "dtype: float64\n"
          ],
          "name": "stdout"
        }
      ]
    },
    {
      "cell_type": "markdown",
      "metadata": {
        "id": "KadWCx9SJ-Cs",
        "colab_type": "text"
      },
      "source": [
        "#### Limpando o dataset removendo os outliers de todas as colunas"
      ]
    },
    {
      "cell_type": "code",
      "metadata": {
        "id": "7b_5pE8ZJ07o",
        "colab_type": "code",
        "colab": {}
      },
      "source": [
        "df_out = df[~((df < (Q1 - 1.5 * IQR)) |(df > (Q3 + 1.5 * IQR))).any(axis=1)]"
      ],
      "execution_count": 43,
      "outputs": []
    },
    {
      "cell_type": "code",
      "metadata": {
        "id": "ETf9l9tuKPGB",
        "colab_type": "code",
        "colab": {
          "base_uri": "https://localhost:8080/",
          "height": 308
        },
        "outputId": "084e7148-4a9c-4fa7-9674-a1e29cecc605"
      },
      "source": [
        "df_out.describe()"
      ],
      "execution_count": 44,
      "outputs": [
        {
          "output_type": "execute_result",
          "data": {
            "text/html": [
              "<div>\n",
              "<style scoped>\n",
              "    .dataframe tbody tr th:only-of-type {\n",
              "        vertical-align: middle;\n",
              "    }\n",
              "\n",
              "    .dataframe tbody tr th {\n",
              "        vertical-align: top;\n",
              "    }\n",
              "\n",
              "    .dataframe thead th {\n",
              "        text-align: right;\n",
              "    }\n",
              "</style>\n",
              "<table border=\"1\" class=\"dataframe\">\n",
              "  <thead>\n",
              "    <tr style=\"text-align: right;\">\n",
              "      <th></th>\n",
              "      <th>id</th>\n",
              "      <th>host_id</th>\n",
              "      <th>neighbourhood_group</th>\n",
              "      <th>latitude</th>\n",
              "      <th>longitude</th>\n",
              "      <th>price</th>\n",
              "      <th>minimum_nights</th>\n",
              "      <th>number_of_reviews</th>\n",
              "      <th>reviews_per_month</th>\n",
              "      <th>calculated_host_listings_count</th>\n",
              "      <th>availability_365</th>\n",
              "    </tr>\n",
              "  </thead>\n",
              "  <tbody>\n",
              "    <tr>\n",
              "      <th>count</th>\n",
              "      <td>2.153100e+04</td>\n",
              "      <td>2.153100e+04</td>\n",
              "      <td>0.0</td>\n",
              "      <td>21531.000000</td>\n",
              "      <td>21531.000000</td>\n",
              "      <td>21531.00000</td>\n",
              "      <td>21531.000000</td>\n",
              "      <td>21531.000000</td>\n",
              "      <td>14993.000000</td>\n",
              "      <td>21531.000000</td>\n",
              "      <td>21531.000000</td>\n",
              "    </tr>\n",
              "    <tr>\n",
              "      <th>mean</th>\n",
              "      <td>2.430821e+07</td>\n",
              "      <td>8.648840e+07</td>\n",
              "      <td>NaN</td>\n",
              "      <td>-33.868280</td>\n",
              "      <td>151.198669</td>\n",
              "      <td>137.60745</td>\n",
              "      <td>3.072965</td>\n",
              "      <td>3.920347</td>\n",
              "      <td>0.322520</td>\n",
              "      <td>1.279829</td>\n",
              "      <td>62.026891</td>\n",
              "    </tr>\n",
              "    <tr>\n",
              "      <th>std</th>\n",
              "      <td>1.204778e+07</td>\n",
              "      <td>8.900551e+07</td>\n",
              "      <td>NaN</td>\n",
              "      <td>0.068161</td>\n",
              "      <td>0.088366</td>\n",
              "      <td>89.14134</td>\n",
              "      <td>2.182483</td>\n",
              "      <td>5.678924</td>\n",
              "      <td>0.403984</td>\n",
              "      <td>0.565333</td>\n",
              "      <td>111.217191</td>\n",
              "    </tr>\n",
              "    <tr>\n",
              "      <th>min</th>\n",
              "      <td>6.512600e+04</td>\n",
              "      <td>1.503000e+04</td>\n",
              "      <td>NaN</td>\n",
              "      <td>-34.100160</td>\n",
              "      <td>150.601470</td>\n",
              "      <td>0.00000</td>\n",
              "      <td>1.000000</td>\n",
              "      <td>0.000000</td>\n",
              "      <td>0.010000</td>\n",
              "      <td>1.000000</td>\n",
              "      <td>0.000000</td>\n",
              "    </tr>\n",
              "    <tr>\n",
              "      <th>25%</th>\n",
              "      <td>1.480710e+07</td>\n",
              "      <td>1.940205e+07</td>\n",
              "      <td>NaN</td>\n",
              "      <td>-33.903225</td>\n",
              "      <td>151.171095</td>\n",
              "      <td>70.00000</td>\n",
              "      <td>1.000000</td>\n",
              "      <td>0.000000</td>\n",
              "      <td>0.060000</td>\n",
              "      <td>1.000000</td>\n",
              "      <td>0.000000</td>\n",
              "    </tr>\n",
              "    <tr>\n",
              "      <th>50%</th>\n",
              "      <td>2.306278e+07</td>\n",
              "      <td>4.978310e+07</td>\n",
              "      <td>NaN</td>\n",
              "      <td>-33.886010</td>\n",
              "      <td>151.215560</td>\n",
              "      <td>110.00000</td>\n",
              "      <td>2.000000</td>\n",
              "      <td>1.000000</td>\n",
              "      <td>0.170000</td>\n",
              "      <td>1.000000</td>\n",
              "      <td>0.000000</td>\n",
              "    </tr>\n",
              "    <tr>\n",
              "      <th>75%</th>\n",
              "      <td>3.512519e+07</td>\n",
              "      <td>1.332110e+08</td>\n",
              "      <td>NaN</td>\n",
              "      <td>-33.834060</td>\n",
              "      <td>151.260475</td>\n",
              "      <td>180.00000</td>\n",
              "      <td>4.000000</td>\n",
              "      <td>5.000000</td>\n",
              "      <td>0.390000</td>\n",
              "      <td>1.000000</td>\n",
              "      <td>89.000000</td>\n",
              "    </tr>\n",
              "    <tr>\n",
              "      <th>max</th>\n",
              "      <td>4.373676e+07</td>\n",
              "      <td>3.492491e+08</td>\n",
              "      <td>NaN</td>\n",
              "      <td>-33.399910</td>\n",
              "      <td>151.339870</td>\n",
              "      <td>430.00000</td>\n",
              "      <td>11.000000</td>\n",
              "      <td>27.000000</td>\n",
              "      <td>2.310000</td>\n",
              "      <td>3.000000</td>\n",
              "      <td>365.000000</td>\n",
              "    </tr>\n",
              "  </tbody>\n",
              "</table>\n",
              "</div>"
            ],
            "text/plain": [
              "                 id  ...  availability_365\n",
              "count  2.153100e+04  ...      21531.000000\n",
              "mean   2.430821e+07  ...         62.026891\n",
              "std    1.204778e+07  ...        111.217191\n",
              "min    6.512600e+04  ...          0.000000\n",
              "25%    1.480710e+07  ...          0.000000\n",
              "50%    2.306278e+07  ...          0.000000\n",
              "75%    3.512519e+07  ...         89.000000\n",
              "max    4.373676e+07  ...        365.000000\n",
              "\n",
              "[8 rows x 11 columns]"
            ]
          },
          "metadata": {
            "tags": []
          },
          "execution_count": 44
        }
      ]
    },
    {
      "cell_type": "markdown",
      "metadata": {
        "id": "NlnEmbHhfdCQ",
        "colab_type": "text"
      },
      "source": [
        "### Histogramas sem outliers"
      ]
    },
    {
      "cell_type": "code",
      "metadata": {
        "id": "ZSUbRt2XfBQk",
        "colab_type": "code",
        "colab": {}
      },
      "source": [
        "# criando uma cópia do dataframe\n",
        "df_cp = df_out.copy()"
      ],
      "execution_count": 61,
      "outputs": []
    },
    {
      "cell_type": "code",
      "metadata": {
        "id": "TGJnNpARfufa",
        "colab_type": "code",
        "colab": {
          "base_uri": "https://localhost:8080/",
          "height": 607
        },
        "outputId": "69cac4c9-135b-41db-ecef-ec715cd29fe6"
      },
      "source": [
        "# remover os *outliers* em um novo DataFrame e colunas vazias\n",
        "df_clean = df_cp.copy()\n",
        "\n",
        "# remover `neighbourhood_group`, pois está vazio\n",
        "df_clean.drop('neighbourhood_group', axis=1, inplace=True)\n",
        "\n",
        "# remover \"host_id\" e \"id\" pois são variáveis sem valor estatístico\n",
        "df_clean.drop('host_id', axis=1, inplace=True)\n",
        "df_clean.drop('id', axis=1, inplace=True)\n",
        "\n",
        "# plotar o histograma para as variáveis numéricas\n",
        "df_clean.hist(bins=15, figsize=(15,10));"
      ],
      "execution_count": 62,
      "outputs": [
        {
          "output_type": "display_data",
          "data": {
            "image/png": "[encoded data removed]",
            "text/plain": [
              "<Figure size 1080x720 with 9 Axes>"
            ]
          },
          "metadata": {
            "tags": [],
            "needs_background": "light"
          }
        }
      ]
    },
    {
      "cell_type": "markdown",
      "metadata": {
        "id": "Qbw52p36hYra",
        "colab_type": "text"
      },
      "source": [
        "## Existe correlação entre as variáveis?"
      ]
    },
    {
      "cell_type": "code",
      "metadata": {
        "id": "ifFKWqZzgf-X",
        "colab_type": "code",
        "colab": {}
      },
      "source": [
        "# criar uma matriz de correlação\n",
        "corr = df_clean[['price', 'minimum_nights', 'number_of_reviews', 'reviews_per_month',\n",
        "    'calculated_host_listings_count', 'availability_365']].corr()"
      ],
      "execution_count": 63,
      "outputs": []
    },
    {
      "cell_type": "code",
      "metadata": {
        "id": "olHXKDC9hoxh",
        "colab_type": "code",
        "colab": {
          "base_uri": "https://localhost:8080/",
          "height": 411
        },
        "outputId": "1e8fc7d6-1687-43ff-f09b-82516bb90876"
      },
      "source": [
        "sns.heatmap(corr, cmap='RdBu', fmt='.2f', square=True, linecolor='white', annot=True);"
      ],
      "execution_count": 64,
      "outputs": [
        {
          "output_type": "display_data",
          "data": {
            "image/png": "[encoded data removed]",
            "text/plain": [
              "<Figure size 432x288 with 2 Axes>"
            ]
          },
          "metadata": {
            "tags": [],
            "needs_background": "light"
          }
        }
      ]
    },
    {
      "cell_type": "markdown",
      "metadata": {
        "id": "1XEj-V84iKTa",
        "colab_type": "text"
      },
      "source": [
        "## Imóveis mais alugados"
      ]
    },
    {
      "cell_type": "markdown",
      "metadata": {
        "id": "6yhH-QQ6ic1l",
        "colab_type": "text"
      },
      "source": [
        "### Por tipo"
      ]
    },
    {
      "cell_type": "code",
      "metadata": {
        "id": "9Mqy2gyQhrU5",
        "colab_type": "code",
        "colab": {
          "base_uri": "https://localhost:8080/",
          "height": 108
        },
        "outputId": "ad7ece49-b1bd-4779-f8dc-3d5328465557"
      },
      "source": [
        "# mostrar a quantidade de cada tipo de imóvel disponível\n",
        "df_clean.room_type.value_counts()"
      ],
      "execution_count": 65,
      "outputs": [
        {
          "output_type": "execute_result",
          "data": {
            "text/plain": [
              "Entire home/apt    11463\n",
              "Private room        9611\n",
              "Shared room          434\n",
              "Hotel room            23\n",
              "Name: room_type, dtype: int64"
            ]
          },
          "metadata": {
            "tags": []
          },
          "execution_count": 65
        }
      ]
    },
    {
      "cell_type": "code",
      "metadata": {
        "id": "v374bXojii11",
        "colab_type": "code",
        "colab": {
          "base_uri": "https://localhost:8080/",
          "height": 108
        },
        "outputId": "16607330-ff3e-4bc3-d7fd-fbc4b464cff6"
      },
      "source": [
        "# mostrar a porcentagem de cada tipo de imóvel disponível\n",
        "df_clean.room_type.value_counts() / df_clean.shape[0]"
      ],
      "execution_count": 66,
      "outputs": [
        {
          "output_type": "execute_result",
          "data": {
            "text/plain": [
              "Entire home/apt    0.532395\n",
              "Private room       0.446380\n",
              "Shared room        0.020157\n",
              "Hotel room         0.001068\n",
              "Name: room_type, dtype: float64"
            ]
          },
          "metadata": {
            "tags": []
          },
          "execution_count": 66
        }
      ]
    },
    {
      "cell_type": "markdown",
      "metadata": {
        "id": "nTtDSn07irXi",
        "colab_type": "text"
      },
      "source": [
        "### Por Bairro"
      ]
    },
    {
      "cell_type": "code",
      "metadata": {
        "id": "PZTiaqiQipWO",
        "colab_type": "code",
        "colab": {
          "base_uri": "https://localhost:8080/",
          "height": 217
        },
        "outputId": "3cfc4499-f254-4ec1-b27b-d9ee6541c516"
      },
      "source": [
        "# mostrar a quantidade de imóvel por bairros\n",
        "df_clean.neighbourhood.value_counts()[:10]"
      ],
      "execution_count": 67,
      "outputs": [
        {
          "output_type": "execute_result",
          "data": {
            "text/plain": [
              "Sydney          4702\n",
              "Waverley        3444\n",
              "Randwick        2179\n",
              "Warringah       1140\n",
              "Manly            965\n",
              "Woollahra        933\n",
              "Marrickville     826\n",
              "North Sydney     748\n",
              "Rockdale         586\n",
              "Leichhardt       517\n",
              "Name: neighbourhood, dtype: int64"
            ]
          },
          "metadata": {
            "tags": []
          },
          "execution_count": 67
        }
      ]
    },
    {
      "cell_type": "code",
      "metadata": {
        "id": "Nc0BKjnBi27x",
        "colab_type": "code",
        "colab": {
          "base_uri": "https://localhost:8080/",
          "height": 217
        },
        "outputId": "75e2b9b8-4f52-426a-ed4c-467a374e9b01"
      },
      "source": [
        "# mostrar a porcentagem de imóvel por bairro\n",
        "(df_clean.neighbourhood.value_counts() / df_clean.shape[0])[:10]"
      ],
      "execution_count": 68,
      "outputs": [
        {
          "output_type": "execute_result",
          "data": {
            "text/plain": [
              "Sydney          0.218383\n",
              "Waverley        0.159955\n",
              "Randwick        0.101203\n",
              "Warringah       0.052947\n",
              "Manly           0.044819\n",
              "Woollahra       0.043333\n",
              "Marrickville    0.038363\n",
              "North Sydney    0.034741\n",
              "Rockdale        0.027217\n",
              "Leichhardt      0.024012\n",
              "Name: neighbourhood, dtype: float64"
            ]
          },
          "metadata": {
            "tags": []
          },
          "execution_count": 68
        }
      ]
    },
    {
      "cell_type": "markdown",
      "metadata": {
        "id": "tuk5Rz35jSNu",
        "colab_type": "text"
      },
      "source": [
        "## Preço médio do aluguel"
      ]
    },
    {
      "cell_type": "markdown",
      "metadata": {
        "id": "5bE2UTKQjVKM",
        "colab_type": "text"
      },
      "source": [
        "### Por tipo"
      ]
    },
    {
      "cell_type": "code",
      "metadata": {
        "id": "DAQrD7IajI2q",
        "colab_type": "code",
        "colab": {
          "base_uri": "https://localhost:8080/",
          "height": 126
        },
        "outputId": "52d3fd87-37d9-48a0-e9d8-07bfbbceaa55"
      },
      "source": [
        "df_clean.groupby(['room_type']).price.mean().sort_values(ascending=False)[:10]"
      ],
      "execution_count": 69,
      "outputs": [
        {
          "output_type": "execute_result",
          "data": {
            "text/plain": [
              "room_type\n",
              "Entire home/apt    186.426503\n",
              "Hotel room         163.000000\n",
              "Private room        82.798668\n",
              "Shared room         60.580645\n",
              "Name: price, dtype: float64"
            ]
          },
          "metadata": {
            "tags": []
          },
          "execution_count": 69
        }
      ]
    },
    {
      "cell_type": "markdown",
      "metadata": {
        "id": "BtIRIzcpjoo6",
        "colab_type": "text"
      },
      "source": [
        "### Por bairro"
      ]
    },
    {
      "cell_type": "code",
      "metadata": {
        "id": "UUT4EPLQjiSL",
        "colab_type": "code",
        "colab": {
          "base_uri": "https://localhost:8080/",
          "height": 235
        },
        "outputId": "7e55c5f8-7abd-4a80-9477-cf7cf48b23a7"
      },
      "source": [
        "df_clean.groupby(['neighbourhood']).price.mean().sort_values(ascending=False)[:10]"
      ],
      "execution_count": 70,
      "outputs": [
        {
          "output_type": "execute_result",
          "data": {
            "text/plain": [
              "neighbourhood\n",
              "Pittwater           216.066158\n",
              "Manly               183.970984\n",
              "Hunters Hill        177.093750\n",
              "Leichhardt          166.425532\n",
              "Warringah           164.071053\n",
              "Mosman              161.947598\n",
              "Waverley            156.363240\n",
              "Sutherland Shire    156.170418\n",
              "Woollahra           153.207931\n",
              "North Sydney        140.847594\n",
              "Name: price, dtype: float64"
            ]
          },
          "metadata": {
            "tags": []
          },
          "execution_count": 70
        }
      ]
    },
    {
      "cell_type": "code",
      "metadata": {
        "id": "CgcNWz_ijq0G",
        "colab_type": "code",
        "colab": {
          "base_uri": "https://localhost:8080/",
          "height": 235
        },
        "outputId": "b7376d54-5ed4-4bf6-f4db-3f109bdca377"
      },
      "source": [
        "df_clean.groupby(['neighbourhood']).price.mean().sort_values(ascending=False)[-10:]"
      ],
      "execution_count": 71,
      "outputs": [
        {
          "output_type": "execute_result",
          "data": {
            "text/plain": [
              "neighbourhood\n",
              "City Of Kogarah    95.596899\n",
              "Ryde               94.467662\n",
              "Hurstville         90.903704\n",
              "Canterbury         89.599291\n",
              "Burwood            85.913907\n",
              "Bankstown          85.108844\n",
              "Strathfield        84.476562\n",
              "Holroyd            81.712329\n",
              "Blacktown          78.795238\n",
              "Fairfield          73.133333\n",
              "Name: price, dtype: float64"
            ]
          },
          "metadata": {
            "tags": []
          },
          "execution_count": 71
        }
      ]
    },
    {
      "cell_type": "code",
      "metadata": {
        "id": "DyLtgWaJjveI",
        "colab_type": "code",
        "colab": {
          "base_uri": "https://localhost:8080/",
          "height": 1000
        },
        "outputId": "096821cc-b792-40da-83a2-46e8f056b7a3"
      },
      "source": [
        "df_clean.groupby(['neighbourhood']).agg({'price': ['mean', 'count']}).sort_values(('price', 'mean'), ascending=False)"
      ],
      "execution_count": 72,
      "outputs": [
        {
          "output_type": "execute_result",
          "data": {
            "text/html": [
              "<div>\n",
              "<style scoped>\n",
              "    .dataframe tbody tr th:only-of-type {\n",
              "        vertical-align: middle;\n",
              "    }\n",
              "\n",
              "    .dataframe tbody tr th {\n",
              "        vertical-align: top;\n",
              "    }\n",
              "\n",
              "    .dataframe thead tr th {\n",
              "        text-align: left;\n",
              "    }\n",
              "\n",
              "    .dataframe thead tr:last-of-type th {\n",
              "        text-align: right;\n",
              "    }\n",
              "</style>\n",
              "<table border=\"1\" class=\"dataframe\">\n",
              "  <thead>\n",
              "    <tr>\n",
              "      <th></th>\n",
              "      <th colspan=\"2\" halign=\"left\">price</th>\n",
              "    </tr>\n",
              "    <tr>\n",
              "      <th></th>\n",
              "      <th>mean</th>\n",
              "      <th>count</th>\n",
              "    </tr>\n",
              "    <tr>\n",
              "      <th>neighbourhood</th>\n",
              "      <th></th>\n",
              "      <th></th>\n",
              "    </tr>\n",
              "  </thead>\n",
              "  <tbody>\n",
              "    <tr>\n",
              "      <th>Pittwater</th>\n",
              "      <td>216.066158</td>\n",
              "      <td>393</td>\n",
              "    </tr>\n",
              "    <tr>\n",
              "      <th>Manly</th>\n",
              "      <td>183.970984</td>\n",
              "      <td>965</td>\n",
              "    </tr>\n",
              "    <tr>\n",
              "      <th>Hunters Hill</th>\n",
              "      <td>177.093750</td>\n",
              "      <td>32</td>\n",
              "    </tr>\n",
              "    <tr>\n",
              "      <th>Leichhardt</th>\n",
              "      <td>166.425532</td>\n",
              "      <td>517</td>\n",
              "    </tr>\n",
              "    <tr>\n",
              "      <th>Warringah</th>\n",
              "      <td>164.071053</td>\n",
              "      <td>1140</td>\n",
              "    </tr>\n",
              "    <tr>\n",
              "      <th>Mosman</th>\n",
              "      <td>161.947598</td>\n",
              "      <td>229</td>\n",
              "    </tr>\n",
              "    <tr>\n",
              "      <th>Waverley</th>\n",
              "      <td>156.363240</td>\n",
              "      <td>3444</td>\n",
              "    </tr>\n",
              "    <tr>\n",
              "      <th>Sutherland Shire</th>\n",
              "      <td>156.170418</td>\n",
              "      <td>311</td>\n",
              "    </tr>\n",
              "    <tr>\n",
              "      <th>Woollahra</th>\n",
              "      <td>153.207931</td>\n",
              "      <td>933</td>\n",
              "    </tr>\n",
              "    <tr>\n",
              "      <th>North Sydney</th>\n",
              "      <td>140.847594</td>\n",
              "      <td>748</td>\n",
              "    </tr>\n",
              "    <tr>\n",
              "      <th>Sydney</th>\n",
              "      <td>134.789026</td>\n",
              "      <td>4702</td>\n",
              "    </tr>\n",
              "    <tr>\n",
              "      <th>Randwick</th>\n",
              "      <td>134.384121</td>\n",
              "      <td>2179</td>\n",
              "    </tr>\n",
              "    <tr>\n",
              "      <th>Ku-Ring-Gai</th>\n",
              "      <td>133.743243</td>\n",
              "      <td>222</td>\n",
              "    </tr>\n",
              "    <tr>\n",
              "      <th>Willoughby</th>\n",
              "      <td>132.539519</td>\n",
              "      <td>291</td>\n",
              "    </tr>\n",
              "    <tr>\n",
              "      <th>Lane Cove</th>\n",
              "      <td>125.772455</td>\n",
              "      <td>167</td>\n",
              "    </tr>\n",
              "    <tr>\n",
              "      <th>Canada Bay</th>\n",
              "      <td>123.460208</td>\n",
              "      <td>289</td>\n",
              "    </tr>\n",
              "    <tr>\n",
              "      <th>Hornsby</th>\n",
              "      <td>115.069869</td>\n",
              "      <td>229</td>\n",
              "    </tr>\n",
              "    <tr>\n",
              "      <th>Marrickville</th>\n",
              "      <td>111.707022</td>\n",
              "      <td>826</td>\n",
              "    </tr>\n",
              "    <tr>\n",
              "      <th>Penrith</th>\n",
              "      <td>111.458333</td>\n",
              "      <td>72</td>\n",
              "    </tr>\n",
              "    <tr>\n",
              "      <th>Auburn</th>\n",
              "      <td>110.425234</td>\n",
              "      <td>214</td>\n",
              "    </tr>\n",
              "    <tr>\n",
              "      <th>Botany Bay</th>\n",
              "      <td>107.863636</td>\n",
              "      <td>396</td>\n",
              "    </tr>\n",
              "    <tr>\n",
              "      <th>Ashfield</th>\n",
              "      <td>104.497512</td>\n",
              "      <td>201</td>\n",
              "    </tr>\n",
              "    <tr>\n",
              "      <th>The Hills Shire</th>\n",
              "      <td>103.322430</td>\n",
              "      <td>214</td>\n",
              "    </tr>\n",
              "    <tr>\n",
              "      <th>Campbelltown</th>\n",
              "      <td>102.136364</td>\n",
              "      <td>66</td>\n",
              "    </tr>\n",
              "    <tr>\n",
              "      <th>Parramatta</th>\n",
              "      <td>101.104790</td>\n",
              "      <td>334</td>\n",
              "    </tr>\n",
              "    <tr>\n",
              "      <th>Liverpool</th>\n",
              "      <td>100.494737</td>\n",
              "      <td>95</td>\n",
              "    </tr>\n",
              "    <tr>\n",
              "      <th>Rockdale</th>\n",
              "      <td>99.349829</td>\n",
              "      <td>586</td>\n",
              "    </tr>\n",
              "    <tr>\n",
              "      <th>Camden</th>\n",
              "      <td>96.735294</td>\n",
              "      <td>34</td>\n",
              "    </tr>\n",
              "    <tr>\n",
              "      <th>City Of Kogarah</th>\n",
              "      <td>95.596899</td>\n",
              "      <td>129</td>\n",
              "    </tr>\n",
              "    <tr>\n",
              "      <th>Ryde</th>\n",
              "      <td>94.467662</td>\n",
              "      <td>402</td>\n",
              "    </tr>\n",
              "    <tr>\n",
              "      <th>Hurstville</th>\n",
              "      <td>90.903704</td>\n",
              "      <td>135</td>\n",
              "    </tr>\n",
              "    <tr>\n",
              "      <th>Canterbury</th>\n",
              "      <td>89.599291</td>\n",
              "      <td>282</td>\n",
              "    </tr>\n",
              "    <tr>\n",
              "      <th>Burwood</th>\n",
              "      <td>85.913907</td>\n",
              "      <td>151</td>\n",
              "    </tr>\n",
              "    <tr>\n",
              "      <th>Bankstown</th>\n",
              "      <td>85.108844</td>\n",
              "      <td>147</td>\n",
              "    </tr>\n",
              "    <tr>\n",
              "      <th>Strathfield</th>\n",
              "      <td>84.476562</td>\n",
              "      <td>128</td>\n",
              "    </tr>\n",
              "    <tr>\n",
              "      <th>Holroyd</th>\n",
              "      <td>81.712329</td>\n",
              "      <td>73</td>\n",
              "    </tr>\n",
              "    <tr>\n",
              "      <th>Blacktown</th>\n",
              "      <td>78.795238</td>\n",
              "      <td>210</td>\n",
              "    </tr>\n",
              "    <tr>\n",
              "      <th>Fairfield</th>\n",
              "      <td>73.133333</td>\n",
              "      <td>45</td>\n",
              "    </tr>\n",
              "  </tbody>\n",
              "</table>\n",
              "</div>"
            ],
            "text/plain": [
              "                       price      \n",
              "                        mean count\n",
              "neighbourhood                     \n",
              "Pittwater         216.066158   393\n",
              "Manly             183.970984   965\n",
              "Hunters Hill      177.093750    32\n",
              "Leichhardt        166.425532   517\n",
              "Warringah         164.071053  1140\n",
              "Mosman            161.947598   229\n",
              "Waverley          156.363240  3444\n",
              "Sutherland Shire  156.170418   311\n",
              "Woollahra         153.207931   933\n",
              "North Sydney      140.847594   748\n",
              "Sydney            134.789026  4702\n",
              "Randwick          134.384121  2179\n",
              "Ku-Ring-Gai       133.743243   222\n",
              "Willoughby        132.539519   291\n",
              "Lane Cove         125.772455   167\n",
              "Canada Bay        123.460208   289\n",
              "Hornsby           115.069869   229\n",
              "Marrickville      111.707022   826\n",
              "Penrith           111.458333    72\n",
              "Auburn            110.425234   214\n",
              "Botany Bay        107.863636   396\n",
              "Ashfield          104.497512   201\n",
              "The Hills Shire   103.322430   214\n",
              "Campbelltown      102.136364    66\n",
              "Parramatta        101.104790   334\n",
              "Liverpool         100.494737    95\n",
              "Rockdale           99.349829   586\n",
              "Camden             96.735294    34\n",
              "City Of Kogarah    95.596899   129\n",
              "Ryde               94.467662   402\n",
              "Hurstville         90.903704   135\n",
              "Canterbury         89.599291   282\n",
              "Burwood            85.913907   151\n",
              "Bankstown          85.108844   147\n",
              "Strathfield        84.476562   128\n",
              "Holroyd            81.712329    73\n",
              "Blacktown          78.795238   210\n",
              "Fairfield          73.133333    45"
            ]
          },
          "metadata": {
            "tags": []
          },
          "execution_count": 72
        }
      ]
    },
    {
      "cell_type": "markdown",
      "metadata": {
        "id": "1k7MG25ImzBz",
        "colab_type": "text"
      },
      "source": [
        "## Mapa dos aluguéis"
      ]
    },
    {
      "cell_type": "code",
      "metadata": {
        "id": "RncptsaNkPK9",
        "colab_type": "code",
        "colab": {
          "base_uri": "https://localhost:8080/",
          "height": 472
        },
        "outputId": "fbb104a7-05fa-494a-bda7-8f90a7162b1a"
      },
      "source": [
        "# plotar os imóveis pela latitude-longitude\n",
        "df_clean.plot(kind=\"scatter\", x='longitude', y='latitude', alpha=0.4, c=df_clean['price'], s=8,\n",
        "              cmap=plt.get_cmap('jet'), figsize=(12,8));"
      ],
      "execution_count": 73,
      "outputs": [
        {
          "output_type": "display_data",
          "data": {
            "image/png": "[encoded data removed]",
            "text/plain": [
              "<Figure size 864x576 with 2 Axes>"
            ]
          },
          "metadata": {
            "tags": [],
            "needs_background": "light"
          }
        }
      ]
    },
    {
      "cell_type": "markdown",
      "metadata": {
        "id": "ipHHs6s4m-nk",
        "colab_type": "text"
      },
      "source": [
        "# Conclusões"
      ]
    },
    {
      "cell_type": "markdown",
      "metadata": {
        "id": "bLBcW02BQkW0",
        "colab_type": "text"
      },
      "source": [
        "Olhando o mapa podemos ver que os locais mais caros se encontram no litoral da região. A zona mais interna é a mais barata sendo que a zona central é relativamente mais barata que a litorânea porém um pouco mais cara que o resto das regiões. Como antigo morador da cidade aconselho se hospedar na região mais central pois dali terá acesso fácil a todas as outras regiões. O transporte público, tanto ônibus quanto metrô, funciona muito bem e te permite se deslocar facilmente entre as regiões. Fazendo uma pesquisa rápida encontrei nada data de hoje (21/06/2020) no site decolar.com o hotel mais barato em Sydney custando R\\$ 509,00 reais (aproximadamente AU\\$ 140,00), e pela tabela criada acima podemos verificar que uma noite na mesma região (Sydney) custando em média AU\\$ 134,79 (R\\$ 489,33), portanto vale a pena buscar uma acomodação via Airbnb para visitar a cidade."
      ]
    }
  ]
}