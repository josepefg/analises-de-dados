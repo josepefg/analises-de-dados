{
  "nbformat": 4,
  "nbformat_minor": 0,
  "metadata": {
    "colab": {
      "name": "Airbnb-Sydney.ipynb",
      "provenance": [],
      "toc_visible": true,
      "authorship_tag": "ABX9TyPWU4qgoZSArkdGNPe4wBC7",
      "include_colab_link": true
    },
    "kernelspec": {
      "name": "python3",
      "display_name": "Python 3"
    }
  },
  "cells": [
    {
      "cell_type": "markdown",
      "metadata": {
        "id": "view-in-github",
        "colab_type": "text"
      },
      "source": [
        "<a href=\"https://colab.research.google.com/github/josepefg/analises-de-dados/blob/master/airbnb/Airbnb_Sydney.ipynb\" target=\"_parent\"><img src=\"https://colab.research.google.com/assets/colab-badge.svg\" alt=\"Open In Colab\"/></a>"
      ]
    },
    {
      "cell_type": "markdown",
      "metadata": {
        "id": "0o2iney-UUBk",
        "colab_type": "text"
      },
      "source": [
        "<a href=\"https://www.linkedin.com/in/josepegerent\"> <img border=\"0\" alt=\"Linkedin\" src=\"https://img.shields.io/badge/Autor-josepefg-red.svg\"> </a>\n",
        "# **Análise do Airbnb**  \n",
        "O [Airbnb](https://www.airbnb.com.br/) disponibiliza dados do site referentes aos aluguéis para algumas das principais cidades do mundo. A partir do site [Inside Airbnb](http://insideairbnb.com/get-the-data.html) é possível baixar esses dados para serem analisado.\n",
        "\n",
        "<center><img alt=\"Analisando Airbnb\" width=\"10%\" src=\"https://www.area360.com.au/wp-content/uploads/2017/09/airbnb-logo.jpg\"></center>\n",
        "\n",
        "Como eu já morei na Austrália resolvi baixar os dados de Sydney para fazer uma análise dos aluguéis por região."
      ]
    },
    {
      "cell_type": "markdown",
      "metadata": {
        "id": "V4VAxOs1Uk9A",
        "colab_type": "text"
      },
      "source": [
        "# **Obtenção dos dados**  \n",
        "Os dados foram obtidos através do site [Inside Airbnb](http://insideairbnb.com/get-the-data.html), mais especificamente o arquivo [listings](http://data.insideairbnb.com/australia/nsw/sydney/2020-06-11/visualisations/listings.csv), que, como informado no site traz um resumo das informações e das métricas e é ideal para visualizações."
      ]
    },
    {
      "cell_type": "code",
      "metadata": {
        "id": "zjs6n1q-UFUU",
        "colab_type": "code",
        "colab": {}
      },
      "source": [
        "# importar os pacotes necessários\n",
        "import warnings\n",
        "warnings.filterwarnings(\"ignore\", category=Warning)\n",
        "\n",
        "import pandas as pd\n",
        "import matplotlib.pyplot as plt\n",
        "import seaborn as sns\n",
        "\n",
        "sns.set()\n",
        "%matplotlib inline"
      ],
      "execution_count": 1,
      "outputs": []
    },
    {
      "cell_type": "code",
      "metadata": {
        "id": "Wqi33-JwU08e",
        "colab_type": "code",
        "colab": {}
      },
      "source": [
        "# importar o arquivo listings.csv para um DataFrame\n",
        "df = pd.read_csv(\"http://data.insideairbnb.com/australia/nsw/sydney/2020-06-11/visualisations/listings.csv\")"
      ],
      "execution_count": 2,
      "outputs": []
    },
    {
      "cell_type": "markdown",
      "metadata": {
        "id": "mubtH6NBVH85",
        "colab_type": "text"
      },
      "source": [
        "# **Análise dos dados** \n",
        "Entender a estrutura e a descrição dos dados."
      ]
    },
    {
      "cell_type": "markdown",
      "metadata": {
        "id": "RYgvuebKNg8-",
        "colab_type": "text"
      },
      "source": [
        "**Dicionário das variáveis**\n",
        "\n",
        "* `id` - número de id gerado para identificar o imóvel\n",
        "* `name` - nome da propriedade anunciada\n",
        "* `host_id` - número de id do proprietário (anfitrião) da propriedade\n",
        "* `host_name` - Nome do anfitrião\n",
        "* `neighbourhood_group` - esta coluna não contém nenhum valor válido\n",
        "* `neighbourhood` - nome do bairro\n",
        "* `latitude` - coordenada da latitude da propriedade\n",
        "* `longitude` - coordenada da longitude da propriedade\n",
        "* `room_type` - informa o tipo de quarto que é oferecido\n",
        "* `price` - preço para alugar o imóvel\n",
        "* `minimum_nights` - quantidade mínima de noites para reservar\n",
        "* `number_of_reviews` - número de reviews que a propriedade possui\n",
        "* `last_review` - data do último review\n",
        "* `reviews_per_month` - quantidade de reviews por mês\n",
        "* `calculated_host_listings_count` - quantidade de imóveis do mesmo anfitrião\n",
        "* `availability_365` - número de dias de disponibilidade dentro de 365 dias\n",
        "\n",
        "Antes de iniciar qualquer análise, vamos verificar a cara do nosso *dataset*, analisando as 5 primeiras entradas."
      ]
    },
    {
      "cell_type": "code",
      "metadata": {
        "id": "1i9L8VYwWJjp",
        "colab_type": "code",
        "colab": {
          "base_uri": "https://localhost:8080/",
          "height": 394
        },
        "outputId": "1b864687-bf6c-482c-93b1-97e3f779ca0a"
      },
      "source": [
        "df.head()"
      ],
      "execution_count": 3,
      "outputs": [
        {
          "output_type": "execute_result",
          "data": {
            "text/html": [
              "<div>\n",
              "<style scoped>\n",
              "    .dataframe tbody tr th:only-of-type {\n",
              "        vertical-align: middle;\n",
              "    }\n",
              "\n",
              "    .dataframe tbody tr th {\n",
              "        vertical-align: top;\n",
              "    }\n",
              "\n",
              "    .dataframe thead th {\n",
              "        text-align: right;\n",
              "    }\n",
              "</style>\n",
              "<table border=\"1\" class=\"dataframe\">\n",
              "  <thead>\n",
              "    <tr style=\"text-align: right;\">\n",
              "      <th></th>\n",
              "      <th>id</th>\n",
              "      <th>name</th>\n",
              "      <th>host_id</th>\n",
              "      <th>host_name</th>\n",
              "      <th>neighbourhood_group</th>\n",
              "      <th>neighbourhood</th>\n",
              "      <th>latitude</th>\n",
              "      <th>longitude</th>\n",
              "      <th>room_type</th>\n",
              "      <th>price</th>\n",
              "      <th>minimum_nights</th>\n",
              "      <th>number_of_reviews</th>\n",
              "      <th>last_review</th>\n",
              "      <th>reviews_per_month</th>\n",
              "      <th>calculated_host_listings_count</th>\n",
              "      <th>availability_365</th>\n",
              "    </tr>\n",
              "  </thead>\n",
              "  <tbody>\n",
              "    <tr>\n",
              "      <th>0</th>\n",
              "      <td>11156</td>\n",
              "      <td>An Oasis in the City</td>\n",
              "      <td>40855</td>\n",
              "      <td>Colleen</td>\n",
              "      <td>NaN</td>\n",
              "      <td>Sydney</td>\n",
              "      <td>-33.86917</td>\n",
              "      <td>151.22656</td>\n",
              "      <td>Private room</td>\n",
              "      <td>64</td>\n",
              "      <td>2</td>\n",
              "      <td>196</td>\n",
              "      <td>2020-03-13</td>\n",
              "      <td>1.53</td>\n",
              "      <td>1</td>\n",
              "      <td>364</td>\n",
              "    </tr>\n",
              "    <tr>\n",
              "      <th>1</th>\n",
              "      <td>12351</td>\n",
              "      <td>Sydney City &amp; Harbour at the door</td>\n",
              "      <td>17061</td>\n",
              "      <td>Stuart</td>\n",
              "      <td>NaN</td>\n",
              "      <td>Sydney</td>\n",
              "      <td>-33.86515</td>\n",
              "      <td>151.19190</td>\n",
              "      <td>Private room</td>\n",
              "      <td>14314</td>\n",
              "      <td>2</td>\n",
              "      <td>526</td>\n",
              "      <td>2019-09-22</td>\n",
              "      <td>4.37</td>\n",
              "      <td>2</td>\n",
              "      <td>0</td>\n",
              "    </tr>\n",
              "    <tr>\n",
              "      <th>2</th>\n",
              "      <td>14250</td>\n",
              "      <td>Manly Harbour House</td>\n",
              "      <td>55948</td>\n",
              "      <td>Heidi</td>\n",
              "      <td>NaN</td>\n",
              "      <td>Manly</td>\n",
              "      <td>-33.80093</td>\n",
              "      <td>151.26172</td>\n",
              "      <td>Entire home/apt</td>\n",
              "      <td>471</td>\n",
              "      <td>5</td>\n",
              "      <td>2</td>\n",
              "      <td>2019-01-02</td>\n",
              "      <td>0.04</td>\n",
              "      <td>2</td>\n",
              "      <td>173</td>\n",
              "    </tr>\n",
              "    <tr>\n",
              "      <th>3</th>\n",
              "      <td>44545</td>\n",
              "      <td>Sunny Darlinghurst Warehouse Apartment</td>\n",
              "      <td>112237</td>\n",
              "      <td>Atari</td>\n",
              "      <td>NaN</td>\n",
              "      <td>Sydney</td>\n",
              "      <td>-33.87888</td>\n",
              "      <td>151.21439</td>\n",
              "      <td>Entire home/apt</td>\n",
              "      <td>130</td>\n",
              "      <td>3</td>\n",
              "      <td>76</td>\n",
              "      <td>2020-01-03</td>\n",
              "      <td>0.65</td>\n",
              "      <td>1</td>\n",
              "      <td>0</td>\n",
              "    </tr>\n",
              "    <tr>\n",
              "      <th>4</th>\n",
              "      <td>58506</td>\n",
              "      <td>Studio Yindi @ Mosman, Sydney</td>\n",
              "      <td>279955</td>\n",
              "      <td>John</td>\n",
              "      <td>NaN</td>\n",
              "      <td>Mosman</td>\n",
              "      <td>-33.81927</td>\n",
              "      <td>151.23652</td>\n",
              "      <td>Entire home/apt</td>\n",
              "      <td>140</td>\n",
              "      <td>2</td>\n",
              "      <td>280</td>\n",
              "      <td>2020-04-23</td>\n",
              "      <td>2.43</td>\n",
              "      <td>1</td>\n",
              "      <td>267</td>\n",
              "    </tr>\n",
              "  </tbody>\n",
              "</table>\n",
              "</div>"
            ],
            "text/plain": [
              "      id  ... availability_365\n",
              "0  11156  ...              364\n",
              "1  12351  ...                0\n",
              "2  14250  ...              173\n",
              "3  44545  ...                0\n",
              "4  58506  ...              267\n",
              "\n",
              "[5 rows x 16 columns]"
            ]
          },
          "metadata": {
            "tags": []
          },
          "execution_count": 3
        }
      ]
    },
    {
      "cell_type": "markdown",
      "metadata": {
        "id": "59b3AkRXV4Ew",
        "colab_type": "text"
      },
      "source": [
        "## Quais as dimensões do dataset?"
      ]
    },
    {
      "cell_type": "code",
      "metadata": {
        "id": "UVWc_P5bV7ou",
        "colab_type": "code",
        "colab": {
          "base_uri": "https://localhost:8080/",
          "height": 34
        },
        "outputId": "c66c4a2d-d10e-4fb6-bb8d-ae853eba5ae4"
      },
      "source": [
        "df.shape"
      ],
      "execution_count": 4,
      "outputs": [
        {
          "output_type": "execute_result",
          "data": {
            "text/plain": [
              "(36901, 16)"
            ]
          },
          "metadata": {
            "tags": []
          },
          "execution_count": 4
        }
      ]
    },
    {
      "cell_type": "markdown",
      "metadata": {
        "id": "UvkZaNxTVmbx",
        "colab_type": "text"
      },
      "source": [
        "## Quais os tipos das colunas?"
      ]
    },
    {
      "cell_type": "code",
      "metadata": {
        "id": "pHNDURAaU_6Q",
        "colab_type": "code",
        "colab": {
          "base_uri": "https://localhost:8080/",
          "height": 408
        },
        "outputId": "687cafb5-116b-4b64-ebfa-c474964f0161"
      },
      "source": [
        "df.info()"
      ],
      "execution_count": 5,
      "outputs": [
        {
          "output_type": "stream",
          "text": [
            "<class 'pandas.core.frame.DataFrame'>\n",
            "RangeIndex: 36901 entries, 0 to 36900\n",
            "Data columns (total 16 columns):\n",
            " #   Column                          Non-Null Count  Dtype  \n",
            "---  ------                          --------------  -----  \n",
            " 0   id                              36901 non-null  int64  \n",
            " 1   name                            36889 non-null  object \n",
            " 2   host_id                         36901 non-null  int64  \n",
            " 3   host_name                       36894 non-null  object \n",
            " 4   neighbourhood_group             0 non-null      float64\n",
            " 5   neighbourhood                   36901 non-null  object \n",
            " 6   latitude                        36901 non-null  float64\n",
            " 7   longitude                       36901 non-null  float64\n",
            " 8   room_type                       36901 non-null  object \n",
            " 9   price                           36901 non-null  int64  \n",
            " 10  minimum_nights                  36901 non-null  int64  \n",
            " 11  number_of_reviews               36901 non-null  int64  \n",
            " 12  last_review                     26628 non-null  object \n",
            " 13  reviews_per_month               26628 non-null  float64\n",
            " 14  calculated_host_listings_count  36901 non-null  int64  \n",
            " 15  availability_365                36901 non-null  int64  \n",
            "dtypes: float64(4), int64(7), object(5)\n",
            "memory usage: 4.5+ MB\n"
          ],
          "name": "stdout"
        }
      ]
    },
    {
      "cell_type": "markdown",
      "metadata": {
        "id": "EHQh9yy-WRIf",
        "colab_type": "text"
      },
      "source": [
        "Aqui já podemos perceber que a coluna neighbourhood_group não tem nenhum valor preenchido, então já é uma candidata a ser excluída."
      ]
    },
    {
      "cell_type": "markdown",
      "metadata": {
        "id": "BVI6sx9FYFYS",
        "colab_type": "text"
      },
      "source": [
        "## Qual a porcentagem de valores ausentes de cada coluna?"
      ]
    },
    {
      "cell_type": "code",
      "metadata": {
        "id": "zhNZbf-NWQnS",
        "colab_type": "code",
        "colab": {
          "base_uri": "https://localhost:8080/",
          "height": 306
        },
        "outputId": "7235de74-84f2-41fd-d4a3-ccab373c28cc"
      },
      "source": [
        "# ordenar em ordem decrescente as variáveis por seus valores ausentes\n",
        "(df.isnull().sum() / df.shape[0]).sort_values(ascending=False)"
      ],
      "execution_count": 6,
      "outputs": [
        {
          "output_type": "execute_result",
          "data": {
            "text/plain": [
              "neighbourhood_group               1.000000\n",
              "reviews_per_month                 0.278394\n",
              "last_review                       0.278394\n",
              "name                              0.000325\n",
              "host_name                         0.000190\n",
              "availability_365                  0.000000\n",
              "calculated_host_listings_count    0.000000\n",
              "number_of_reviews                 0.000000\n",
              "minimum_nights                    0.000000\n",
              "price                             0.000000\n",
              "room_type                         0.000000\n",
              "longitude                         0.000000\n",
              "latitude                          0.000000\n",
              "neighbourhood                     0.000000\n",
              "host_id                           0.000000\n",
              "id                                0.000000\n",
              "dtype: float64"
            ]
          },
          "metadata": {
            "tags": []
          },
          "execution_count": 6
        }
      ]
    },
    {
      "cell_type": "markdown",
      "metadata": {
        "id": "zRHGl4LxW4FQ",
        "colab_type": "text"
      },
      "source": [
        "A coluna neighbourhood_group não possui nenhuma entrada, enquanto que as colunas reviews_per_month e last_review têm 27,84% de seus dados faltando. "
      ]
    },
    {
      "cell_type": "markdown",
      "metadata": {
        "id": "OZkdqs8eY7dN",
        "colab_type": "text"
      },
      "source": [
        "## Como estão distribuídas as variáveis?"
      ]
    },
    {
      "cell_type": "code",
      "metadata": {
        "id": "oHZDMmUoY2L8",
        "colab_type": "code",
        "colab": {
          "base_uri": "https://localhost:8080/",
          "height": 610
        },
        "outputId": "610d61a9-d223-40f0-aea4-6d8210008cbc"
      },
      "source": [
        "# plotar o histograma das variáveis numéricas\n",
        "df.hist(bins=15, figsize=(15,10));"
      ],
      "execution_count": 7,
      "outputs": [
        {
          "output_type": "display_data",
          "data": {
            "image/png": "[encoded data removed]",
            "text/plain": [
              "<Figure size 1080x720 with 12 Axes>"
            ]
          },
          "metadata": {
            "tags": [],
            "needs_background": "light"
          }
        }
      ]
    },
    {
      "cell_type": "markdown",
      "metadata": {
        "id": "5Czm4ZUmZe6u",
        "colab_type": "text"
      },
      "source": [
        "## Há outliers nesse dataset?\n",
        "O histograma nos dá indícios de que algumas colunas possam ter outliers. Vamos analisar essas colunas através de uma análise estatística e plotar o boxplot delas."
      ]
    },
    {
      "cell_type": "markdown",
      "metadata": {
        "id": "6qzvUAGJZlZJ",
        "colab_type": "text"
      },
      "source": [
        "### Resumo estatístico"
      ]
    },
    {
      "cell_type": "code",
      "metadata": {
        "id": "rq_CutEmVr2-",
        "colab_type": "code",
        "colab": {
          "base_uri": "https://localhost:8080/",
          "height": 317
        },
        "outputId": "3a3491bd-9181-4878-f98b-e0ce425fc80e"
      },
      "source": [
        "# resumo estatístico dos dados numéricos\n",
        "df.describe()"
      ],
      "execution_count": 8,
      "outputs": [
        {
          "output_type": "execute_result",
          "data": {
            "text/html": [
              "<div>\n",
              "<style scoped>\n",
              "    .dataframe tbody tr th:only-of-type {\n",
              "        vertical-align: middle;\n",
              "    }\n",
              "\n",
              "    .dataframe tbody tr th {\n",
              "        vertical-align: top;\n",
              "    }\n",
              "\n",
              "    .dataframe thead th {\n",
              "        text-align: right;\n",
              "    }\n",
              "</style>\n",
              "<table border=\"1\" class=\"dataframe\">\n",
              "  <thead>\n",
              "    <tr style=\"text-align: right;\">\n",
              "      <th></th>\n",
              "      <th>id</th>\n",
              "      <th>host_id</th>\n",
              "      <th>neighbourhood_group</th>\n",
              "      <th>latitude</th>\n",
              "      <th>longitude</th>\n",
              "      <th>price</th>\n",
              "      <th>minimum_nights</th>\n",
              "      <th>number_of_reviews</th>\n",
              "      <th>reviews_per_month</th>\n",
              "      <th>calculated_host_listings_count</th>\n",
              "      <th>availability_365</th>\n",
              "    </tr>\n",
              "  </thead>\n",
              "  <tbody>\n",
              "    <tr>\n",
              "      <th>count</th>\n",
              "      <td>3.690100e+04</td>\n",
              "      <td>3.690100e+04</td>\n",
              "      <td>0.0</td>\n",
              "      <td>36901.000000</td>\n",
              "      <td>36901.000000</td>\n",
              "      <td>36901.000000</td>\n",
              "      <td>36901.000000</td>\n",
              "      <td>36901.000000</td>\n",
              "      <td>26628.000000</td>\n",
              "      <td>36901.000000</td>\n",
              "      <td>36901.000000</td>\n",
              "    </tr>\n",
              "    <tr>\n",
              "      <th>mean</th>\n",
              "      <td>2.453288e+07</td>\n",
              "      <td>9.131863e+07</td>\n",
              "      <td>NaN</td>\n",
              "      <td>-33.863215</td>\n",
              "      <td>151.198786</td>\n",
              "      <td>227.003333</td>\n",
              "      <td>6.106257</td>\n",
              "      <td>14.866995</td>\n",
              "      <td>0.784623</td>\n",
              "      <td>7.252134</td>\n",
              "      <td>95.462697</td>\n",
              "    </tr>\n",
              "    <tr>\n",
              "      <th>std</th>\n",
              "      <td>1.228760e+07</td>\n",
              "      <td>9.191494e+07</td>\n",
              "      <td>NaN</td>\n",
              "      <td>0.072964</td>\n",
              "      <td>0.088700</td>\n",
              "      <td>443.456850</td>\n",
              "      <td>27.658358</td>\n",
              "      <td>36.144464</td>\n",
              "      <td>1.172487</td>\n",
              "      <td>22.746438</td>\n",
              "      <td>129.994717</td>\n",
              "    </tr>\n",
              "    <tr>\n",
              "      <th>min</th>\n",
              "      <td>1.115600e+04</td>\n",
              "      <td>1.409300e+04</td>\n",
              "      <td>NaN</td>\n",
              "      <td>-34.135590</td>\n",
              "      <td>150.601470</td>\n",
              "      <td>0.000000</td>\n",
              "      <td>1.000000</td>\n",
              "      <td>0.000000</td>\n",
              "      <td>0.010000</td>\n",
              "      <td>1.000000</td>\n",
              "      <td>0.000000</td>\n",
              "    </tr>\n",
              "    <tr>\n",
              "      <th>25%</th>\n",
              "      <td>1.499574e+07</td>\n",
              "      <td>1.828597e+07</td>\n",
              "      <td>NaN</td>\n",
              "      <td>-33.899450</td>\n",
              "      <td>151.175530</td>\n",
              "      <td>79.000000</td>\n",
              "      <td>1.000000</td>\n",
              "      <td>0.000000</td>\n",
              "      <td>0.100000</td>\n",
              "      <td>1.000000</td>\n",
              "      <td>0.000000</td>\n",
              "    </tr>\n",
              "    <tr>\n",
              "      <th>50%</th>\n",
              "      <td>2.379250e+07</td>\n",
              "      <td>5.116167e+07</td>\n",
              "      <td>NaN</td>\n",
              "      <td>-33.882000</td>\n",
              "      <td>151.213460</td>\n",
              "      <td>130.000000</td>\n",
              "      <td>2.000000</td>\n",
              "      <td>2.000000</td>\n",
              "      <td>0.300000</td>\n",
              "      <td>1.000000</td>\n",
              "      <td>0.000000</td>\n",
              "    </tr>\n",
              "    <tr>\n",
              "      <th>75%</th>\n",
              "      <td>3.577880e+07</td>\n",
              "      <td>1.506891e+08</td>\n",
              "      <td>NaN</td>\n",
              "      <td>-33.829520</td>\n",
              "      <td>151.258910</td>\n",
              "      <td>220.000000</td>\n",
              "      <td>5.000000</td>\n",
              "      <td>11.000000</td>\n",
              "      <td>0.990000</td>\n",
              "      <td>2.000000</td>\n",
              "      <td>178.000000</td>\n",
              "    </tr>\n",
              "    <tr>\n",
              "      <th>max</th>\n",
              "      <td>4.373676e+07</td>\n",
              "      <td>3.492491e+08</td>\n",
              "      <td>NaN</td>\n",
              "      <td>-33.390750</td>\n",
              "      <td>151.339870</td>\n",
              "      <td>15000.000000</td>\n",
              "      <td>1125.000000</td>\n",
              "      <td>657.000000</td>\n",
              "      <td>28.820000</td>\n",
              "      <td>176.000000</td>\n",
              "      <td>365.000000</td>\n",
              "    </tr>\n",
              "  </tbody>\n",
              "</table>\n",
              "</div>"
            ],
            "text/plain": [
              "                 id  ...  availability_365\n",
              "count  3.690100e+04  ...      36901.000000\n",
              "mean   2.453288e+07  ...         95.462697\n",
              "std    1.228760e+07  ...        129.994717\n",
              "min    1.115600e+04  ...          0.000000\n",
              "25%    1.499574e+07  ...          0.000000\n",
              "50%    2.379250e+07  ...          0.000000\n",
              "75%    3.577880e+07  ...        178.000000\n",
              "max    4.373676e+07  ...        365.000000\n",
              "\n",
              "[8 rows x 11 columns]"
            ]
          },
          "metadata": {
            "tags": []
          },
          "execution_count": 8
        }
      ]
    },
    {
      "cell_type": "markdown",
      "metadata": {
        "id": "dns1MUeeX4rN",
        "colab_type": "text"
      },
      "source": [
        "Analisando principalment a distribuição de 75% dos dados e os máximos podemos verificar que realmente temos outliers."
      ]
    },
    {
      "cell_type": "code",
      "metadata": {
        "id": "vt01vkZvZpQs",
        "colab_type": "code",
        "colab": {
          "base_uri": "https://localhost:8080/",
          "height": 173
        },
        "outputId": "7e7835f9-7be9-4e16-c5a0-90bde8489774"
      },
      "source": [
        "# estatística dos dados categóricos\n",
        "df.describe(include=['O'])"
      ],
      "execution_count": 9,
      "outputs": [
        {
          "output_type": "execute_result",
          "data": {
            "text/html": [
              "<div>\n",
              "<style scoped>\n",
              "    .dataframe tbody tr th:only-of-type {\n",
              "        vertical-align: middle;\n",
              "    }\n",
              "\n",
              "    .dataframe tbody tr th {\n",
              "        vertical-align: top;\n",
              "    }\n",
              "\n",
              "    .dataframe thead th {\n",
              "        text-align: right;\n",
              "    }\n",
              "</style>\n",
              "<table border=\"1\" class=\"dataframe\">\n",
              "  <thead>\n",
              "    <tr style=\"text-align: right;\">\n",
              "      <th></th>\n",
              "      <th>name</th>\n",
              "      <th>host_name</th>\n",
              "      <th>neighbourhood</th>\n",
              "      <th>room_type</th>\n",
              "      <th>last_review</th>\n",
              "    </tr>\n",
              "  </thead>\n",
              "  <tbody>\n",
              "    <tr>\n",
              "      <th>count</th>\n",
              "      <td>36889</td>\n",
              "      <td>36894</td>\n",
              "      <td>36901</td>\n",
              "      <td>36901</td>\n",
              "      <td>26628</td>\n",
              "    </tr>\n",
              "    <tr>\n",
              "      <th>unique</th>\n",
              "      <td>35976</td>\n",
              "      <td>8205</td>\n",
              "      <td>38</td>\n",
              "      <td>4</td>\n",
              "      <td>1868</td>\n",
              "    </tr>\n",
              "    <tr>\n",
              "      <th>top</th>\n",
              "      <td>Home away from home</td>\n",
              "      <td>David</td>\n",
              "      <td>Sydney</td>\n",
              "      <td>Entire home/apt</td>\n",
              "      <td>2020-01-01</td>\n",
              "    </tr>\n",
              "    <tr>\n",
              "      <th>freq</th>\n",
              "      <td>22</td>\n",
              "      <td>344</td>\n",
              "      <td>9364</td>\n",
              "      <td>22641</td>\n",
              "      <td>447</td>\n",
              "    </tr>\n",
              "  </tbody>\n",
              "</table>\n",
              "</div>"
            ],
            "text/plain": [
              "                       name host_name  ...        room_type last_review\n",
              "count                 36889     36894  ...            36901       26628\n",
              "unique                35976      8205  ...                4        1868\n",
              "top     Home away from home     David  ...  Entire home/apt  2020-01-01\n",
              "freq                     22       344  ...            22641         447\n",
              "\n",
              "[4 rows x 5 columns]"
            ]
          },
          "metadata": {
            "tags": []
          },
          "execution_count": 9
        }
      ]
    },
    {
      "cell_type": "markdown",
      "metadata": {
        "id": "vPgdXq80bEOf",
        "colab_type": "text"
      },
      "source": [
        "### Boxplots e IQR das variáveis com outliers  \n",
        "O Boxplot utiliza a Amplitude Interquartil (IQR) para a visualização dos outliers. Portanto iremos utilizar essa mesma técnica para remover os outliers do dataframe."
      ]
    },
    {
      "cell_type": "markdown",
      "metadata": {
        "id": "KYsiWi1XNbES",
        "colab_type": "text"
      },
      "source": [
        "#### Boxplots"
      ]
    },
    {
      "cell_type": "markdown",
      "metadata": {
        "id": "xaxjHV4KcJiA",
        "colab_type": "text"
      },
      "source": [
        "#### price"
      ]
    },
    {
      "cell_type": "code",
      "metadata": {
        "id": "ig26ftw7ZzCd",
        "colab_type": "code",
        "colab": {
          "base_uri": "https://localhost:8080/",
          "height": 0
        },
        "outputId": "b77dd70e-e296-4bf9-acf8-447474ae8a38"
      },
      "source": [
        "# price\n",
        "df.price.plot(kind='box', vert=False, figsize=(15, 3),)\n",
        "plt.show()"
      ],
      "execution_count": 10,
      "outputs": [
        {
          "output_type": "display_data",
          "data": {
            "image/png": "[encoded data removed]",
            "text/plain": [
              "<Figure size 1080x216 with 1 Axes>"
            ]
          },
          "metadata": {
            "tags": [],
            "needs_background": "light"
          }
        }
      ]
    },
    {
      "cell_type": "markdown",
      "metadata": {
        "id": "wlczxBqHcN2y",
        "colab_type": "text"
      },
      "source": [
        "#### minimun_nights"
      ]
    },
    {
      "cell_type": "code",
      "metadata": {
        "id": "BVOpuw20bUlL",
        "colab_type": "code",
        "colab": {
          "base_uri": "https://localhost:8080/",
          "height": 0
        },
        "outputId": "8056cfd4-e060-40c2-cbf4-8d034f18a287"
      },
      "source": [
        "# minimum_nights\n",
        "df.minimum_nights.plot(kind='box', vert=False, figsize=(15, 3))\n",
        "plt.show()"
      ],
      "execution_count": 11,
      "outputs": [
        {
          "output_type": "display_data",
          "data": {
            "image/png": "[encoded data removed]",
            "text/plain": [
              "<Figure size 1080x216 with 1 Axes>"
            ]
          },
          "metadata": {
            "tags": [],
            "needs_background": "light"
          }
        }
      ]
    },
    {
      "cell_type": "markdown",
      "metadata": {
        "id": "rs91gmqBcwEB",
        "colab_type": "text"
      },
      "source": [
        "#### number_of_reviews"
      ]
    },
    {
      "cell_type": "code",
      "metadata": {
        "id": "eVceKNfWchfM",
        "colab_type": "code",
        "colab": {
          "base_uri": "https://localhost:8080/",
          "height": 0
        },
        "outputId": "32c60b88-dd84-419c-ce7b-e39f1a8b1f58"
      },
      "source": [
        "# number_of_reviews\n",
        "df.number_of_reviews.plot(kind='box', vert=False, figsize=(15, 3))\n",
        "plt.show()"
      ],
      "execution_count": 12,
      "outputs": [
        {
          "output_type": "display_data",
          "data": {
            "image/png": "[encoded data removed]",
            "text/plain": [
              "<Figure size 1080x216 with 1 Axes>"
            ]
          },
          "metadata": {
            "tags": [],
            "needs_background": "light"
          }
        }
      ]
    },
    {
      "cell_type": "markdown",
      "metadata": {
        "id": "vakLFQpndKtC",
        "colab_type": "text"
      },
      "source": [
        "#### reviews_per_month"
      ]
    },
    {
      "cell_type": "code",
      "metadata": {
        "id": "pkZj4n2pdF5i",
        "colab_type": "code",
        "colab": {
          "base_uri": "https://localhost:8080/",
          "height": 0
        },
        "outputId": "cb336635-47f4-4e21-930d-52d8c6c542e2"
      },
      "source": [
        "# reviews_per_month\n",
        "df.reviews_per_month.plot(kind='box', vert=False, figsize=(15, 3))\n",
        "plt.show()"
      ],
      "execution_count": 13,
      "outputs": [
        {
          "output_type": "display_data",
          "data": {
            "image/png": "[encoded data removed]",
            "text/plain": [
              "<Figure size 1080x216 with 1 Axes>"
            ]
          },
          "metadata": {
            "tags": [],
            "needs_background": "light"
          }
        }
      ]
    },
    {
      "cell_type": "markdown",
      "metadata": {
        "id": "hAdCMJAceOu5",
        "colab_type": "text"
      },
      "source": [
        "#### calculated_host_listings_count"
      ]
    },
    {
      "cell_type": "code",
      "metadata": {
        "id": "j2zNvb6UdbZI",
        "colab_type": "code",
        "colab": {
          "base_uri": "https://localhost:8080/",
          "height": 0
        },
        "outputId": "0d9d2947-eee8-42dd-f520-53db5272958c"
      },
      "source": [
        "# calculated_host_listings_count\n",
        "df.calculated_host_listings_count.plot(kind='box', vert=False, figsize=(15, 3))\n",
        "plt.show()"
      ],
      "execution_count": 14,
      "outputs": [
        {
          "output_type": "display_data",
          "data": {
            "image/png": "[encoded data removed]",
            "text/plain": [
              "<Figure size 1080x216 with 1 Axes>"
            ]
          },
          "metadata": {
            "tags": [],
            "needs_background": "light"
          }
        }
      ]
    },
    {
      "cell_type": "markdown",
      "metadata": {
        "id": "6TU0SthKet-5",
        "colab_type": "text"
      },
      "source": [
        "#### availability_365"
      ]
    },
    {
      "cell_type": "code",
      "metadata": {
        "id": "-viTvu-Kees7",
        "colab_type": "code",
        "colab": {
          "base_uri": "https://localhost:8080/",
          "height": 0
        },
        "outputId": "efd3b993-9f56-4390-d0f9-67fcfdb619e4"
      },
      "source": [
        "# availability_365\n",
        "df.availability_365.plot(kind='box', vert=False, figsize=(15, 3))\n",
        "plt.show()"
      ],
      "execution_count": 15,
      "outputs": [
        {
          "output_type": "display_data",
          "data": {
            "image/png": "[encoded data removed]",
            "text/plain": [
              "<Figure size 1080x216 with 1 Axes>"
            ]
          },
          "metadata": {
            "tags": [],
            "needs_background": "light"
          }
        }
      ]
    },
    {
      "cell_type": "markdown",
      "metadata": {
        "id": "ZYQE7jBgJ2kH",
        "colab_type": "text"
      },
      "source": [
        "#### IQR\n",
        "Amplitude Interquartil"
      ]
    },
    {
      "cell_type": "code",
      "metadata": {
        "id": "dsBAVPdEKabz",
        "colab_type": "code",
        "colab": {}
      },
      "source": [
        "# Selecionando as colunas a serem limpas\n",
        "cols = ['price', 'minimum_nights', 'number_of_reviews',\t'reviews_per_month', 'calculated_host_listings_count',\t'availability_365']\n",
        "df_sel = df[cols]"
      ],
      "execution_count": 16,
      "outputs": []
    },
    {
      "cell_type": "code",
      "metadata": {
        "id": "l965qo6iHqi_",
        "colab_type": "code",
        "colab": {
          "base_uri": "https://localhost:8080/",
          "height": 0
        },
        "outputId": "f284e136-6da3-48f7-ad3b-1e49f1e31760"
      },
      "source": [
        "Q1 = df_sel.quantile(0.25)\n",
        "Q3 = df_sel.quantile(0.75)\n",
        "IQR = Q3 - Q1\n",
        "print(IQR)"
      ],
      "execution_count": 17,
      "outputs": [
        {
          "output_type": "stream",
          "text": [
            "price                             141.00\n",
            "minimum_nights                      4.00\n",
            "number_of_reviews                  11.00\n",
            "reviews_per_month                   0.89\n",
            "calculated_host_listings_count      1.00\n",
            "availability_365                  178.00\n",
            "dtype: float64\n"
          ],
          "name": "stdout"
        }
      ]
    },
    {
      "cell_type": "markdown",
      "metadata": {
        "id": "KadWCx9SJ-Cs",
        "colab_type": "text"
      },
      "source": [
        "#### Limpando o dataset removendo os outliers de todas as colunas"
      ]
    },
    {
      "cell_type": "code",
      "metadata": {
        "id": "7b_5pE8ZJ07o",
        "colab_type": "code",
        "colab": {}
      },
      "source": [
        "df_out = df[~((df < (Q1 - 1.5 * IQR)) |(df > (Q3 + 1.5 * IQR))).any(axis=1)]"
      ],
      "execution_count": 18,
      "outputs": []
    },
    {
      "cell_type": "code",
      "metadata": {
        "id": "ETf9l9tuKPGB",
        "colab_type": "code",
        "colab": {
          "base_uri": "https://localhost:8080/",
          "height": 0
        },
        "outputId": "f9bc6697-78a2-446f-fbef-b2d4b541b10c"
      },
      "source": [
        "df_out.describe()"
      ],
      "execution_count": 19,
      "outputs": [
        {
          "output_type": "execute_result",
          "data": {
            "text/html": [
              "<div>\n",
              "<style scoped>\n",
              "    .dataframe tbody tr th:only-of-type {\n",
              "        vertical-align: middle;\n",
              "    }\n",
              "\n",
              "    .dataframe tbody tr th {\n",
              "        vertical-align: top;\n",
              "    }\n",
              "\n",
              "    .dataframe thead th {\n",
              "        text-align: right;\n",
              "    }\n",
              "</style>\n",
              "<table border=\"1\" class=\"dataframe\">\n",
              "  <thead>\n",
              "    <tr style=\"text-align: right;\">\n",
              "      <th></th>\n",
              "      <th>id</th>\n",
              "      <th>host_id</th>\n",
              "      <th>neighbourhood_group</th>\n",
              "      <th>latitude</th>\n",
              "      <th>longitude</th>\n",
              "      <th>price</th>\n",
              "      <th>minimum_nights</th>\n",
              "      <th>number_of_reviews</th>\n",
              "      <th>reviews_per_month</th>\n",
              "      <th>calculated_host_listings_count</th>\n",
              "      <th>availability_365</th>\n",
              "    </tr>\n",
              "  </thead>\n",
              "  <tbody>\n",
              "    <tr>\n",
              "      <th>count</th>\n",
              "      <td>2.153100e+04</td>\n",
              "      <td>2.153100e+04</td>\n",
              "      <td>0.0</td>\n",
              "      <td>21531.000000</td>\n",
              "      <td>21531.000000</td>\n",
              "      <td>21531.00000</td>\n",
              "      <td>21531.000000</td>\n",
              "      <td>21531.000000</td>\n",
              "      <td>14993.000000</td>\n",
              "      <td>21531.000000</td>\n",
              "      <td>21531.000000</td>\n",
              "    </tr>\n",
              "    <tr>\n",
              "      <th>mean</th>\n",
              "      <td>2.430821e+07</td>\n",
              "      <td>8.648840e+07</td>\n",
              "      <td>NaN</td>\n",
              "      <td>-33.868280</td>\n",
              "      <td>151.198669</td>\n",
              "      <td>137.60745</td>\n",
              "      <td>3.072965</td>\n",
              "      <td>3.920347</td>\n",
              "      <td>0.322520</td>\n",
              "      <td>1.279829</td>\n",
              "      <td>62.026891</td>\n",
              "    </tr>\n",
              "    <tr>\n",
              "      <th>std</th>\n",
              "      <td>1.204778e+07</td>\n",
              "      <td>8.900551e+07</td>\n",
              "      <td>NaN</td>\n",
              "      <td>0.068161</td>\n",
              "      <td>0.088366</td>\n",
              "      <td>89.14134</td>\n",
              "      <td>2.182483</td>\n",
              "      <td>5.678924</td>\n",
              "      <td>0.403984</td>\n",
              "      <td>0.565333</td>\n",
              "      <td>111.217191</td>\n",
              "    </tr>\n",
              "    <tr>\n",
              "      <th>min</th>\n",
              "      <td>6.512600e+04</td>\n",
              "      <td>1.503000e+04</td>\n",
              "      <td>NaN</td>\n",
              "      <td>-34.100160</td>\n",
              "      <td>150.601470</td>\n",
              "      <td>0.00000</td>\n",
              "      <td>1.000000</td>\n",
              "      <td>0.000000</td>\n",
              "      <td>0.010000</td>\n",
              "      <td>1.000000</td>\n",
              "      <td>0.000000</td>\n",
              "    </tr>\n",
              "    <tr>\n",
              "      <th>25%</th>\n",
              "      <td>1.480710e+07</td>\n",
              "      <td>1.940205e+07</td>\n",
              "      <td>NaN</td>\n",
              "      <td>-33.903225</td>\n",
              "      <td>151.171095</td>\n",
              "      <td>70.00000</td>\n",
              "      <td>1.000000</td>\n",
              "      <td>0.000000</td>\n",
              "      <td>0.060000</td>\n",
              "      <td>1.000000</td>\n",
              "      <td>0.000000</td>\n",
              "    </tr>\n",
              "    <tr>\n",
              "      <th>50%</th>\n",
              "      <td>2.306278e+07</td>\n",
              "      <td>4.978310e+07</td>\n",
              "      <td>NaN</td>\n",
              "      <td>-33.886010</td>\n",
              "      <td>151.215560</td>\n",
              "      <td>110.00000</td>\n",
              "      <td>2.000000</td>\n",
              "      <td>1.000000</td>\n",
              "      <td>0.170000</td>\n",
              "      <td>1.000000</td>\n",
              "      <td>0.000000</td>\n",
              "    </tr>\n",
              "    <tr>\n",
              "      <th>75%</th>\n",
              "      <td>3.512519e+07</td>\n",
              "      <td>1.332110e+08</td>\n",
              "      <td>NaN</td>\n",
              "      <td>-33.834060</td>\n",
              "      <td>151.260475</td>\n",
              "      <td>180.00000</td>\n",
              "      <td>4.000000</td>\n",
              "      <td>5.000000</td>\n",
              "      <td>0.390000</td>\n",
              "      <td>1.000000</td>\n",
              "      <td>89.000000</td>\n",
              "    </tr>\n",
              "    <tr>\n",
              "      <th>max</th>\n",
              "      <td>4.373676e+07</td>\n",
              "      <td>3.492491e+08</td>\n",
              "      <td>NaN</td>\n",
              "      <td>-33.399910</td>\n",
              "      <td>151.339870</td>\n",
              "      <td>430.00000</td>\n",
              "      <td>11.000000</td>\n",
              "      <td>27.000000</td>\n",
              "      <td>2.310000</td>\n",
              "      <td>3.000000</td>\n",
              "      <td>365.000000</td>\n",
              "    </tr>\n",
              "  </tbody>\n",
              "</table>\n",
              "</div>"
            ],
            "text/plain": [
              "                 id  ...  availability_365\n",
              "count  2.153100e+04  ...      21531.000000\n",
              "mean   2.430821e+07  ...         62.026891\n",
              "std    1.204778e+07  ...        111.217191\n",
              "min    6.512600e+04  ...          0.000000\n",
              "25%    1.480710e+07  ...          0.000000\n",
              "50%    2.306278e+07  ...          0.000000\n",
              "75%    3.512519e+07  ...         89.000000\n",
              "max    4.373676e+07  ...        365.000000\n",
              "\n",
              "[8 rows x 11 columns]"
            ]
          },
          "metadata": {
            "tags": []
          },
          "execution_count": 19
        }
      ]
    },
    {
      "cell_type": "markdown",
      "metadata": {
        "id": "NlnEmbHhfdCQ",
        "colab_type": "text"
      },
      "source": [
        "### Histogramas sem outliers"
      ]
    },
    {
      "cell_type": "code",
      "metadata": {
        "id": "ZSUbRt2XfBQk",
        "colab_type": "code",
        "colab": {}
      },
      "source": [
        "# criando uma cópia do dataframe\n",
        "df_cp = df_out.copy()"
      ],
      "execution_count": 20,
      "outputs": []
    },
    {
      "cell_type": "code",
      "metadata": {
        "id": "TGJnNpARfufa",
        "colab_type": "code",
        "colab": {
          "base_uri": "https://localhost:8080/",
          "height": 610
        },
        "outputId": "1dc98d8f-9392-4bd1-bd51-732234d021ac"
      },
      "source": [
        "# remover os *outliers* em um novo DataFrame e colunas vazias\n",
        "df_clean = df_cp.copy()\n",
        "\n",
        "# remover `neighbourhood_group`, pois está vazio\n",
        "df_clean.drop('neighbourhood_group', axis=1, inplace=True)\n",
        "\n",
        "# remover \"host_id\" e \"id\" pois são variáveis sem valor estatístico\n",
        "df_clean.drop('host_id', axis=1, inplace=True)\n",
        "df_clean.drop('id', axis=1, inplace=True)\n",
        "\n",
        "# plotar o histograma para as variáveis numéricas\n",
        "df_clean.hist(bins=15, figsize=(15,10));"
      ],
      "execution_count": 21,
      "outputs": [
        {
          "output_type": "display_data",
          "data": {
            "image/png": "[encoded data removed]",
            "text/plain": [
              "<Figure size 1080x720 with 9 Axes>"
            ]
          },
          "metadata": {
            "tags": [],
            "needs_background": "light"
          }
        }
      ]
    },
    {
      "cell_type": "markdown",
      "metadata": {
        "id": "6pnvsdnfZVD2",
        "colab_type": "text"
      },
      "source": [
        "Agora conseguimos visualizar melhor os histogramas. "
      ]
    },
    {
      "cell_type": "markdown",
      "metadata": {
        "id": "Qbw52p36hYra",
        "colab_type": "text"
      },
      "source": [
        "## Existe correlação entre as variáveis?"
      ]
    },
    {
      "cell_type": "code",
      "metadata": {
        "id": "ifFKWqZzgf-X",
        "colab_type": "code",
        "colab": {}
      },
      "source": [
        "# criar uma matriz de correlação\n",
        "corr = df_clean[['price', 'minimum_nights', 'number_of_reviews', 'reviews_per_month',\n",
        "    'calculated_host_listings_count', 'availability_365']].corr()"
      ],
      "execution_count": 22,
      "outputs": []
    },
    {
      "cell_type": "code",
      "metadata": {
        "id": "olHXKDC9hoxh",
        "colab_type": "code",
        "colab": {
          "base_uri": "https://localhost:8080/",
          "height": 430
        },
        "outputId": "000d0386-283c-409a-f0be-5dc05fa3e5f2"
      },
      "source": [
        "sns.heatmap(corr, cmap='RdBu', fmt='.2f', square=True, linecolor='white', annot=True);"
      ],
      "execution_count": 23,
      "outputs": [
        {
          "output_type": "display_data",
          "data": {
            "image/png": "[encoded data removed]",
            "text/plain": [
              "<Figure size 432x288 with 2 Axes>"
            ]
          },
          "metadata": {
            "tags": [],
            "needs_background": "light"
          }
        }
      ]
    },
    {
      "cell_type": "markdown",
      "metadata": {
        "id": "1XEj-V84iKTa",
        "colab_type": "text"
      },
      "source": [
        "## Imóveis mais alugados"
      ]
    },
    {
      "cell_type": "markdown",
      "metadata": {
        "id": "6yhH-QQ6ic1l",
        "colab_type": "text"
      },
      "source": [
        "### Por tipo"
      ]
    },
    {
      "cell_type": "code",
      "metadata": {
        "id": "9Mqy2gyQhrU5",
        "colab_type": "code",
        "colab": {
          "base_uri": "https://localhost:8080/",
          "height": 102
        },
        "outputId": "7685371c-d116-463d-dbf2-fb09a5022eb1"
      },
      "source": [
        "# mostrar a quantidade de cada tipo de imóvel disponível\n",
        "df_clean.room_type.value_counts()"
      ],
      "execution_count": 24,
      "outputs": [
        {
          "output_type": "execute_result",
          "data": {
            "text/plain": [
              "Entire home/apt    11463\n",
              "Private room        9611\n",
              "Shared room          434\n",
              "Hotel room            23\n",
              "Name: room_type, dtype: int64"
            ]
          },
          "metadata": {
            "tags": []
          },
          "execution_count": 24
        }
      ]
    },
    {
      "cell_type": "code",
      "metadata": {
        "id": "v374bXojii11",
        "colab_type": "code",
        "colab": {
          "base_uri": "https://localhost:8080/",
          "height": 102
        },
        "outputId": "cfe20161-100c-4db4-9e9f-72c4ab154257"
      },
      "source": [
        "# mostrar a porcentagem de cada tipo de imóvel disponível\n",
        "df_clean.room_type.value_counts() / df_clean.shape[0]"
      ],
      "execution_count": 25,
      "outputs": [
        {
          "output_type": "execute_result",
          "data": {
            "text/plain": [
              "Entire home/apt    0.532395\n",
              "Private room       0.446380\n",
              "Shared room        0.020157\n",
              "Hotel room         0.001068\n",
              "Name: room_type, dtype: float64"
            ]
          },
          "metadata": {
            "tags": []
          },
          "execution_count": 25
        }
      ]
    },
    {
      "cell_type": "markdown",
      "metadata": {
        "id": "nTtDSn07irXi",
        "colab_type": "text"
      },
      "source": [
        "### Por Bairro"
      ]
    },
    {
      "cell_type": "code",
      "metadata": {
        "id": "PZTiaqiQipWO",
        "colab_type": "code",
        "colab": {
          "base_uri": "https://localhost:8080/",
          "height": 204
        },
        "outputId": "3231a34a-1ee9-40ad-de32-9803e478b3b9"
      },
      "source": [
        "# mostrar a quantidade de imóvel por bairros\n",
        "df_clean.neighbourhood.value_counts()[:10]"
      ],
      "execution_count": 26,
      "outputs": [
        {
          "output_type": "execute_result",
          "data": {
            "text/plain": [
              "Sydney          4702\n",
              "Waverley        3444\n",
              "Randwick        2179\n",
              "Warringah       1140\n",
              "Manly            965\n",
              "Woollahra        933\n",
              "Marrickville     826\n",
              "North Sydney     748\n",
              "Rockdale         586\n",
              "Leichhardt       517\n",
              "Name: neighbourhood, dtype: int64"
            ]
          },
          "metadata": {
            "tags": []
          },
          "execution_count": 26
        }
      ]
    },
    {
      "cell_type": "code",
      "metadata": {
        "id": "Nc0BKjnBi27x",
        "colab_type": "code",
        "colab": {
          "base_uri": "https://localhost:8080/",
          "height": 204
        },
        "outputId": "2b8d002e-ba01-4116-8e1d-1d8d7e118a6f"
      },
      "source": [
        "# mostrar a porcentagem de imóvel por bairro\n",
        "(df_clean.neighbourhood.value_counts() / df_clean.shape[0])[:10]"
      ],
      "execution_count": 27,
      "outputs": [
        {
          "output_type": "execute_result",
          "data": {
            "text/plain": [
              "Sydney          0.218383\n",
              "Waverley        0.159955\n",
              "Randwick        0.101203\n",
              "Warringah       0.052947\n",
              "Manly           0.044819\n",
              "Woollahra       0.043333\n",
              "Marrickville    0.038363\n",
              "North Sydney    0.034741\n",
              "Rockdale        0.027217\n",
              "Leichhardt      0.024012\n",
              "Name: neighbourhood, dtype: float64"
            ]
          },
          "metadata": {
            "tags": []
          },
          "execution_count": 27
        }
      ]
    },
    {
      "cell_type": "markdown",
      "metadata": {
        "id": "tuk5Rz35jSNu",
        "colab_type": "text"
      },
      "source": [
        "## Preço médio do aluguel"
      ]
    },
    {
      "cell_type": "markdown",
      "metadata": {
        "id": "5bE2UTKQjVKM",
        "colab_type": "text"
      },
      "source": [
        "### Por tipo"
      ]
    },
    {
      "cell_type": "code",
      "metadata": {
        "id": "DAQrD7IajI2q",
        "colab_type": "code",
        "colab": {
          "base_uri": "https://localhost:8080/",
          "height": 119
        },
        "outputId": "5905c367-dc05-4fc8-98ed-d1dacf02901b"
      },
      "source": [
        "df_clean.groupby(['room_type']).price.mean().sort_values(ascending=False)[:10]"
      ],
      "execution_count": 28,
      "outputs": [
        {
          "output_type": "execute_result",
          "data": {
            "text/plain": [
              "room_type\n",
              "Entire home/apt    186.426503\n",
              "Hotel room         163.000000\n",
              "Private room        82.798668\n",
              "Shared room         60.580645\n",
              "Name: price, dtype: float64"
            ]
          },
          "metadata": {
            "tags": []
          },
          "execution_count": 28
        }
      ]
    },
    {
      "cell_type": "markdown",
      "metadata": {
        "id": "BtIRIzcpjoo6",
        "colab_type": "text"
      },
      "source": [
        "### Por bairro"
      ]
    },
    {
      "cell_type": "code",
      "metadata": {
        "id": "UUT4EPLQjiSL",
        "colab_type": "code",
        "colab": {
          "base_uri": "https://localhost:8080/",
          "height": 221
        },
        "outputId": "174feeda-8281-4ee0-fb85-c94a444e698d"
      },
      "source": [
        "df_clean.groupby(['neighbourhood']).price.mean().sort_values(ascending=False)[:10]"
      ],
      "execution_count": 29,
      "outputs": [
        {
          "output_type": "execute_result",
          "data": {
            "text/plain": [
              "neighbourhood\n",
              "Pittwater           216.066158\n",
              "Manly               183.970984\n",
              "Hunters Hill        177.093750\n",
              "Leichhardt          166.425532\n",
              "Warringah           164.071053\n",
              "Mosman              161.947598\n",
              "Waverley            156.363240\n",
              "Sutherland Shire    156.170418\n",
              "Woollahra           153.207931\n",
              "North Sydney        140.847594\n",
              "Name: price, dtype: float64"
            ]
          },
          "metadata": {
            "tags": []
          },
          "execution_count": 29
        }
      ]
    },
    {
      "cell_type": "code",
      "metadata": {
        "id": "CgcNWz_ijq0G",
        "colab_type": "code",
        "colab": {
          "base_uri": "https://localhost:8080/",
          "height": 221
        },
        "outputId": "8be3e1cc-d645-461d-b1e6-cf4c5d87d07b"
      },
      "source": [
        "df_clean.groupby(['neighbourhood']).price.mean().sort_values(ascending=False)[-10:]"
      ],
      "execution_count": 30,
      "outputs": [
        {
          "output_type": "execute_result",
          "data": {
            "text/plain": [
              "neighbourhood\n",
              "City Of Kogarah    95.596899\n",
              "Ryde               94.467662\n",
              "Hurstville         90.903704\n",
              "Canterbury         89.599291\n",
              "Burwood            85.913907\n",
              "Bankstown          85.108844\n",
              "Strathfield        84.476562\n",
              "Holroyd            81.712329\n",
              "Blacktown          78.795238\n",
              "Fairfield          73.133333\n",
              "Name: price, dtype: float64"
            ]
          },
          "metadata": {
            "tags": []
          },
          "execution_count": 30
        }
      ]
    },
    {
      "cell_type": "code",
      "metadata": {
        "id": "7dWjen5SbDGk",
        "colab_type": "code",
        "colab": {
          "base_uri": "https://localhost:8080/",
          "height": 1000
        },
        "outputId": "7bd1424f-578a-4b66-a286-ecd1da3f8391"
      },
      "source": [
        "df_clean.groupby(['neighbourhood']).agg({'price': ['mean', 'count']}).sort_values(('price', 'mean'), ascending=False)"
      ],
      "execution_count": 31,
      "outputs": [
        {
          "output_type": "execute_result",
          "data": {
            "text/html": [
              "<div>\n",
              "<style scoped>\n",
              "    .dataframe tbody tr th:only-of-type {\n",
              "        vertical-align: middle;\n",
              "    }\n",
              "\n",
              "    .dataframe tbody tr th {\n",
              "        vertical-align: top;\n",
              "    }\n",
              "\n",
              "    .dataframe thead tr th {\n",
              "        text-align: left;\n",
              "    }\n",
              "\n",
              "    .dataframe thead tr:last-of-type th {\n",
              "        text-align: right;\n",
              "    }\n",
              "</style>\n",
              "<table border=\"1\" class=\"dataframe\">\n",
              "  <thead>\n",
              "    <tr>\n",
              "      <th></th>\n",
              "      <th colspan=\"2\" halign=\"left\">price</th>\n",
              "    </tr>\n",
              "    <tr>\n",
              "      <th></th>\n",
              "      <th>mean</th>\n",
              "      <th>count</th>\n",
              "    </tr>\n",
              "    <tr>\n",
              "      <th>neighbourhood</th>\n",
              "      <th></th>\n",
              "      <th></th>\n",
              "    </tr>\n",
              "  </thead>\n",
              "  <tbody>\n",
              "    <tr>\n",
              "      <th>Pittwater</th>\n",
              "      <td>216.066158</td>\n",
              "      <td>393</td>\n",
              "    </tr>\n",
              "    <tr>\n",
              "      <th>Manly</th>\n",
              "      <td>183.970984</td>\n",
              "      <td>965</td>\n",
              "    </tr>\n",
              "    <tr>\n",
              "      <th>Hunters Hill</th>\n",
              "      <td>177.093750</td>\n",
              "      <td>32</td>\n",
              "    </tr>\n",
              "    <tr>\n",
              "      <th>Leichhardt</th>\n",
              "      <td>166.425532</td>\n",
              "      <td>517</td>\n",
              "    </tr>\n",
              "    <tr>\n",
              "      <th>Warringah</th>\n",
              "      <td>164.071053</td>\n",
              "      <td>1140</td>\n",
              "    </tr>\n",
              "    <tr>\n",
              "      <th>Mosman</th>\n",
              "      <td>161.947598</td>\n",
              "      <td>229</td>\n",
              "    </tr>\n",
              "    <tr>\n",
              "      <th>Waverley</th>\n",
              "      <td>156.363240</td>\n",
              "      <td>3444</td>\n",
              "    </tr>\n",
              "    <tr>\n",
              "      <th>Sutherland Shire</th>\n",
              "      <td>156.170418</td>\n",
              "      <td>311</td>\n",
              "    </tr>\n",
              "    <tr>\n",
              "      <th>Woollahra</th>\n",
              "      <td>153.207931</td>\n",
              "      <td>933</td>\n",
              "    </tr>\n",
              "    <tr>\n",
              "      <th>North Sydney</th>\n",
              "      <td>140.847594</td>\n",
              "      <td>748</td>\n",
              "    </tr>\n",
              "    <tr>\n",
              "      <th>Sydney</th>\n",
              "      <td>134.789026</td>\n",
              "      <td>4702</td>\n",
              "    </tr>\n",
              "    <tr>\n",
              "      <th>Randwick</th>\n",
              "      <td>134.384121</td>\n",
              "      <td>2179</td>\n",
              "    </tr>\n",
              "    <tr>\n",
              "      <th>Ku-Ring-Gai</th>\n",
              "      <td>133.743243</td>\n",
              "      <td>222</td>\n",
              "    </tr>\n",
              "    <tr>\n",
              "      <th>Willoughby</th>\n",
              "      <td>132.539519</td>\n",
              "      <td>291</td>\n",
              "    </tr>\n",
              "    <tr>\n",
              "      <th>Lane Cove</th>\n",
              "      <td>125.772455</td>\n",
              "      <td>167</td>\n",
              "    </tr>\n",
              "    <tr>\n",
              "      <th>Canada Bay</th>\n",
              "      <td>123.460208</td>\n",
              "      <td>289</td>\n",
              "    </tr>\n",
              "    <tr>\n",
              "      <th>Hornsby</th>\n",
              "      <td>115.069869</td>\n",
              "      <td>229</td>\n",
              "    </tr>\n",
              "    <tr>\n",
              "      <th>Marrickville</th>\n",
              "      <td>111.707022</td>\n",
              "      <td>826</td>\n",
              "    </tr>\n",
              "    <tr>\n",
              "      <th>Penrith</th>\n",
              "      <td>111.458333</td>\n",
              "      <td>72</td>\n",
              "    </tr>\n",
              "    <tr>\n",
              "      <th>Auburn</th>\n",
              "      <td>110.425234</td>\n",
              "      <td>214</td>\n",
              "    </tr>\n",
              "    <tr>\n",
              "      <th>Botany Bay</th>\n",
              "      <td>107.863636</td>\n",
              "      <td>396</td>\n",
              "    </tr>\n",
              "    <tr>\n",
              "      <th>Ashfield</th>\n",
              "      <td>104.497512</td>\n",
              "      <td>201</td>\n",
              "    </tr>\n",
              "    <tr>\n",
              "      <th>The Hills Shire</th>\n",
              "      <td>103.322430</td>\n",
              "      <td>214</td>\n",
              "    </tr>\n",
              "    <tr>\n",
              "      <th>Campbelltown</th>\n",
              "      <td>102.136364</td>\n",
              "      <td>66</td>\n",
              "    </tr>\n",
              "    <tr>\n",
              "      <th>Parramatta</th>\n",
              "      <td>101.104790</td>\n",
              "      <td>334</td>\n",
              "    </tr>\n",
              "    <tr>\n",
              "      <th>Liverpool</th>\n",
              "      <td>100.494737</td>\n",
              "      <td>95</td>\n",
              "    </tr>\n",
              "    <tr>\n",
              "      <th>Rockdale</th>\n",
              "      <td>99.349829</td>\n",
              "      <td>586</td>\n",
              "    </tr>\n",
              "    <tr>\n",
              "      <th>Camden</th>\n",
              "      <td>96.735294</td>\n",
              "      <td>34</td>\n",
              "    </tr>\n",
              "    <tr>\n",
              "      <th>City Of Kogarah</th>\n",
              "      <td>95.596899</td>\n",
              "      <td>129</td>\n",
              "    </tr>\n",
              "    <tr>\n",
              "      <th>Ryde</th>\n",
              "      <td>94.467662</td>\n",
              "      <td>402</td>\n",
              "    </tr>\n",
              "    <tr>\n",
              "      <th>Hurstville</th>\n",
              "      <td>90.903704</td>\n",
              "      <td>135</td>\n",
              "    </tr>\n",
              "    <tr>\n",
              "      <th>Canterbury</th>\n",
              "      <td>89.599291</td>\n",
              "      <td>282</td>\n",
              "    </tr>\n",
              "    <tr>\n",
              "      <th>Burwood</th>\n",
              "      <td>85.913907</td>\n",
              "      <td>151</td>\n",
              "    </tr>\n",
              "    <tr>\n",
              "      <th>Bankstown</th>\n",
              "      <td>85.108844</td>\n",
              "      <td>147</td>\n",
              "    </tr>\n",
              "    <tr>\n",
              "      <th>Strathfield</th>\n",
              "      <td>84.476562</td>\n",
              "      <td>128</td>\n",
              "    </tr>\n",
              "    <tr>\n",
              "      <th>Holroyd</th>\n",
              "      <td>81.712329</td>\n",
              "      <td>73</td>\n",
              "    </tr>\n",
              "    <tr>\n",
              "      <th>Blacktown</th>\n",
              "      <td>78.795238</td>\n",
              "      <td>210</td>\n",
              "    </tr>\n",
              "    <tr>\n",
              "      <th>Fairfield</th>\n",
              "      <td>73.133333</td>\n",
              "      <td>45</td>\n",
              "    </tr>\n",
              "  </tbody>\n",
              "</table>\n",
              "</div>"
            ],
            "text/plain": [
              "                       price      \n",
              "                        mean count\n",
              "neighbourhood                     \n",
              "Pittwater         216.066158   393\n",
              "Manly             183.970984   965\n",
              "Hunters Hill      177.093750    32\n",
              "Leichhardt        166.425532   517\n",
              "Warringah         164.071053  1140\n",
              "Mosman            161.947598   229\n",
              "Waverley          156.363240  3444\n",
              "Sutherland Shire  156.170418   311\n",
              "Woollahra         153.207931   933\n",
              "North Sydney      140.847594   748\n",
              "Sydney            134.789026  4702\n",
              "Randwick          134.384121  2179\n",
              "Ku-Ring-Gai       133.743243   222\n",
              "Willoughby        132.539519   291\n",
              "Lane Cove         125.772455   167\n",
              "Canada Bay        123.460208   289\n",
              "Hornsby           115.069869   229\n",
              "Marrickville      111.707022   826\n",
              "Penrith           111.458333    72\n",
              "Auburn            110.425234   214\n",
              "Botany Bay        107.863636   396\n",
              "Ashfield          104.497512   201\n",
              "The Hills Shire   103.322430   214\n",
              "Campbelltown      102.136364    66\n",
              "Parramatta        101.104790   334\n",
              "Liverpool         100.494737    95\n",
              "Rockdale           99.349829   586\n",
              "Camden             96.735294    34\n",
              "City Of Kogarah    95.596899   129\n",
              "Ryde               94.467662   402\n",
              "Hurstville         90.903704   135\n",
              "Canterbury         89.599291   282\n",
              "Burwood            85.913907   151\n",
              "Bankstown          85.108844   147\n",
              "Strathfield        84.476562   128\n",
              "Holroyd            81.712329    73\n",
              "Blacktown          78.795238   210\n",
              "Fairfield          73.133333    45"
            ]
          },
          "metadata": {
            "tags": []
          },
          "execution_count": 31
        }
      ]
    },
    {
      "cell_type": "code",
      "metadata": {
        "id": "DyLtgWaJjveI",
        "colab_type": "code",
        "colab": {
          "base_uri": "https://localhost:8080/",
          "height": 204
        },
        "outputId": "129d55f6-0c94-4181-aa6a-0f9de645bda0"
      },
      "source": [
        "df_p = df_clean.groupby(['neighbourhood', 'room_type']).agg({'price': ['mean', 'count']}).sort_values(('price', 'mean'), ascending=False).reset_index()\n",
        "df_p.columns = df_p.columns.droplevel(0)\n",
        "df_p.columns = ['neighbourhood', 'room_type', 'mean_price', 'count']\n",
        "df_p.head()"
      ],
      "execution_count": 32,
      "outputs": [
        {
          "output_type": "execute_result",
          "data": {
            "text/html": [
              "<div>\n",
              "<style scoped>\n",
              "    .dataframe tbody tr th:only-of-type {\n",
              "        vertical-align: middle;\n",
              "    }\n",
              "\n",
              "    .dataframe tbody tr th {\n",
              "        vertical-align: top;\n",
              "    }\n",
              "\n",
              "    .dataframe thead th {\n",
              "        text-align: right;\n",
              "    }\n",
              "</style>\n",
              "<table border=\"1\" class=\"dataframe\">\n",
              "  <thead>\n",
              "    <tr style=\"text-align: right;\">\n",
              "      <th></th>\n",
              "      <th>neighbourhood</th>\n",
              "      <th>room_type</th>\n",
              "      <th>mean_price</th>\n",
              "      <th>count</th>\n",
              "    </tr>\n",
              "  </thead>\n",
              "  <tbody>\n",
              "    <tr>\n",
              "      <th>0</th>\n",
              "      <td>Botany Bay</td>\n",
              "      <td>Hotel room</td>\n",
              "      <td>332.000000</td>\n",
              "      <td>3</td>\n",
              "    </tr>\n",
              "    <tr>\n",
              "      <th>1</th>\n",
              "      <td>Sutherland Shire</td>\n",
              "      <td>Hotel room</td>\n",
              "      <td>290.000000</td>\n",
              "      <td>1</td>\n",
              "    </tr>\n",
              "    <tr>\n",
              "      <th>2</th>\n",
              "      <td>Pittwater</td>\n",
              "      <td>Shared room</td>\n",
              "      <td>250.000000</td>\n",
              "      <td>1</td>\n",
              "    </tr>\n",
              "    <tr>\n",
              "      <th>3</th>\n",
              "      <td>Pittwater</td>\n",
              "      <td>Entire home/apt</td>\n",
              "      <td>237.681115</td>\n",
              "      <td>323</td>\n",
              "    </tr>\n",
              "    <tr>\n",
              "      <th>4</th>\n",
              "      <td>Manly</td>\n",
              "      <td>Entire home/apt</td>\n",
              "      <td>222.675188</td>\n",
              "      <td>665</td>\n",
              "    </tr>\n",
              "  </tbody>\n",
              "</table>\n",
              "</div>"
            ],
            "text/plain": [
              "      neighbourhood        room_type  mean_price  count\n",
              "0        Botany Bay       Hotel room  332.000000      3\n",
              "1  Sutherland Shire       Hotel room  290.000000      1\n",
              "2         Pittwater      Shared room  250.000000      1\n",
              "3         Pittwater  Entire home/apt  237.681115    323\n",
              "4             Manly  Entire home/apt  222.675188    665"
            ]
          },
          "metadata": {
            "tags": []
          },
          "execution_count": 32
        }
      ]
    },
    {
      "cell_type": "code",
      "metadata": {
        "id": "wwdmlQPFaUi2",
        "colab_type": "code",
        "colab": {
          "base_uri": "https://localhost:8080/",
          "height": 328
        },
        "outputId": "b8d3b0be-3185-4cf0-8a65-a40b157510bc"
      },
      "source": [
        "df_p[df_p['count'] > 500]"
      ],
      "execution_count": 33,
      "outputs": [
        {
          "output_type": "execute_result",
          "data": {
            "text/html": [
              "<div>\n",
              "<style scoped>\n",
              "    .dataframe tbody tr th:only-of-type {\n",
              "        vertical-align: middle;\n",
              "    }\n",
              "\n",
              "    .dataframe tbody tr th {\n",
              "        vertical-align: top;\n",
              "    }\n",
              "\n",
              "    .dataframe thead th {\n",
              "        text-align: right;\n",
              "    }\n",
              "</style>\n",
              "<table border=\"1\" class=\"dataframe\">\n",
              "  <thead>\n",
              "    <tr style=\"text-align: right;\">\n",
              "      <th></th>\n",
              "      <th>neighbourhood</th>\n",
              "      <th>room_type</th>\n",
              "      <th>mean_price</th>\n",
              "      <th>count</th>\n",
              "    </tr>\n",
              "  </thead>\n",
              "  <tbody>\n",
              "    <tr>\n",
              "      <th>4</th>\n",
              "      <td>Manly</td>\n",
              "      <td>Entire home/apt</td>\n",
              "      <td>222.675188</td>\n",
              "      <td>665</td>\n",
              "    </tr>\n",
              "    <tr>\n",
              "      <th>8</th>\n",
              "      <td>Waverley</td>\n",
              "      <td>Entire home/apt</td>\n",
              "      <td>203.030800</td>\n",
              "      <td>2013</td>\n",
              "    </tr>\n",
              "    <tr>\n",
              "      <th>10</th>\n",
              "      <td>Warringah</td>\n",
              "      <td>Entire home/apt</td>\n",
              "      <td>197.470370</td>\n",
              "      <td>810</td>\n",
              "    </tr>\n",
              "    <tr>\n",
              "      <th>11</th>\n",
              "      <td>Woollahra</td>\n",
              "      <td>Entire home/apt</td>\n",
              "      <td>195.624555</td>\n",
              "      <td>562</td>\n",
              "    </tr>\n",
              "    <tr>\n",
              "      <th>13</th>\n",
              "      <td>Randwick</td>\n",
              "      <td>Entire home/apt</td>\n",
              "      <td>185.550475</td>\n",
              "      <td>1159</td>\n",
              "    </tr>\n",
              "    <tr>\n",
              "      <th>18</th>\n",
              "      <td>Sydney</td>\n",
              "      <td>Entire home/apt</td>\n",
              "      <td>174.338924</td>\n",
              "      <td>2564</td>\n",
              "    </tr>\n",
              "    <tr>\n",
              "      <th>56</th>\n",
              "      <td>Waverley</td>\n",
              "      <td>Private room</td>\n",
              "      <td>91.761314</td>\n",
              "      <td>1370</td>\n",
              "    </tr>\n",
              "    <tr>\n",
              "      <th>59</th>\n",
              "      <td>Sydney</td>\n",
              "      <td>Private room</td>\n",
              "      <td>89.806938</td>\n",
              "      <td>1989</td>\n",
              "    </tr>\n",
              "    <tr>\n",
              "      <th>72</th>\n",
              "      <td>Randwick</td>\n",
              "      <td>Private room</td>\n",
              "      <td>76.713115</td>\n",
              "      <td>976</td>\n",
              "    </tr>\n",
              "  </tbody>\n",
              "</table>\n",
              "</div>"
            ],
            "text/plain": [
              "   neighbourhood        room_type  mean_price  count\n",
              "4          Manly  Entire home/apt  222.675188    665\n",
              "8       Waverley  Entire home/apt  203.030800   2013\n",
              "10     Warringah  Entire home/apt  197.470370    810\n",
              "11     Woollahra  Entire home/apt  195.624555    562\n",
              "13      Randwick  Entire home/apt  185.550475   1159\n",
              "18        Sydney  Entire home/apt  174.338924   2564\n",
              "56      Waverley     Private room   91.761314   1370\n",
              "59        Sydney     Private room   89.806938   1989\n",
              "72      Randwick     Private room   76.713115    976"
            ]
          },
          "metadata": {
            "tags": []
          },
          "execution_count": 33
        }
      ]
    },
    {
      "cell_type": "code",
      "metadata": {
        "id": "DEH-Cc6gbOXY",
        "colab_type": "code",
        "colab": {
          "base_uri": "https://localhost:8080/",
          "height": 173
        },
        "outputId": "8c214b91-c2a6-4b55-d834-0a43e1e0818b"
      },
      "source": [
        "df_p[df_p.neighbourhood == 'Sydney']"
      ],
      "execution_count": 34,
      "outputs": [
        {
          "output_type": "execute_result",
          "data": {
            "text/html": [
              "<div>\n",
              "<style scoped>\n",
              "    .dataframe tbody tr th:only-of-type {\n",
              "        vertical-align: middle;\n",
              "    }\n",
              "\n",
              "    .dataframe tbody tr th {\n",
              "        vertical-align: top;\n",
              "    }\n",
              "\n",
              "    .dataframe thead th {\n",
              "        text-align: right;\n",
              "    }\n",
              "</style>\n",
              "<table border=\"1\" class=\"dataframe\">\n",
              "  <thead>\n",
              "    <tr style=\"text-align: right;\">\n",
              "      <th></th>\n",
              "      <th>neighbourhood</th>\n",
              "      <th>room_type</th>\n",
              "      <th>mean_price</th>\n",
              "      <th>count</th>\n",
              "    </tr>\n",
              "  </thead>\n",
              "  <tbody>\n",
              "    <tr>\n",
              "      <th>6</th>\n",
              "      <td>Sydney</td>\n",
              "      <td>Hotel room</td>\n",
              "      <td>212.000000</td>\n",
              "      <td>3</td>\n",
              "    </tr>\n",
              "    <tr>\n",
              "      <th>18</th>\n",
              "      <td>Sydney</td>\n",
              "      <td>Entire home/apt</td>\n",
              "      <td>174.338924</td>\n",
              "      <td>2564</td>\n",
              "    </tr>\n",
              "    <tr>\n",
              "      <th>59</th>\n",
              "      <td>Sydney</td>\n",
              "      <td>Private room</td>\n",
              "      <td>89.806938</td>\n",
              "      <td>1989</td>\n",
              "    </tr>\n",
              "    <tr>\n",
              "      <th>106</th>\n",
              "      <td>Sydney</td>\n",
              "      <td>Shared room</td>\n",
              "      <td>51.445205</td>\n",
              "      <td>146</td>\n",
              "    </tr>\n",
              "  </tbody>\n",
              "</table>\n",
              "</div>"
            ],
            "text/plain": [
              "    neighbourhood        room_type  mean_price  count\n",
              "6          Sydney       Hotel room  212.000000      3\n",
              "18         Sydney  Entire home/apt  174.338924   2564\n",
              "59         Sydney     Private room   89.806938   1989\n",
              "106        Sydney      Shared room   51.445205    146"
            ]
          },
          "metadata": {
            "tags": []
          },
          "execution_count": 34
        }
      ]
    },
    {
      "cell_type": "markdown",
      "metadata": {
        "id": "1k7MG25ImzBz",
        "colab_type": "text"
      },
      "source": [
        "## Mapa dos aluguéis"
      ]
    },
    {
      "cell_type": "code",
      "metadata": {
        "id": "RncptsaNkPK9",
        "colab_type": "code",
        "colab": {
          "base_uri": "https://localhost:8080/",
          "height": 472
        },
        "outputId": "86080d80-be7a-40d2-e6e5-a6a573a51859"
      },
      "source": [
        "# plotar os imóveis pela latitude-longitude\n",
        "df_clean.plot(kind=\"scatter\", x='longitude', y='latitude', alpha=0.4, c=df_clean['price'], s=8,\n",
        "              cmap=plt.get_cmap('jet'), figsize=(12,8));"
      ],
      "execution_count": 35,
      "outputs": [
        {
          "output_type": "display_data",
          "data": {
            "image/png": "[encoded data removed]",
            "text/plain": [
              "<Figure size 864x576 with 2 Axes>"
            ]
          },
          "metadata": {
            "tags": [],
            "needs_background": "light"
          }
        }
      ]
    },
    {
      "cell_type": "markdown",
      "metadata": {
        "id": "ipHHs6s4m-nk",
        "colab_type": "text"
      },
      "source": [
        "# **Conclusões**  "
      ]
    },
    {
      "cell_type": "markdown",
      "metadata": {
        "id": "bLBcW02BQkW0",
        "colab_type": "text"
      },
      "source": [
        "Olhando o mapa podemos ver que os locais mais caros se encontram no litoral da região. A zona mais interna é a mais barata sendo que a zona central é relativamente mais barata que a litorânea porém um pouco mais cara que o resto das regiões. Como antigo morador da cidade aconselho se hospedar na região mais central pois dali terá acesso fácil a todas as outras regiões. O transporte público, tanto ônibus quanto metrô, funciona muito bem e te permite se deslocar facilmente entre as regiões. Fazendo uma pesquisa rápida encontrei nada data de hoje (21/06/2020) no site decolar.com o quarto de hotel para uma pessoa mais barato em Sydney custando R\\$ 509,00 reais (aproximadamente AU\\$ 140,00), e pela tabela criada acima podemos verificar que uma noite em um quarto privado na mesma região (Sydney) custa em média AU\\$ 89,81 (R\\$ 326,04), portanto vale a pena buscar uma acomodação via Airbnb para visitar a cidade."
      ]
    }
  ]
}