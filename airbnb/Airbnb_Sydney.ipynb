{
  "nbformat": 4,
  "nbformat_minor": 0,
  "metadata": {
    "colab": {
      "name": "Airbnb-Sydney.ipynb",
      "provenance": [],
      "toc_visible": true,
      "authorship_tag": "ABX9TyO1WQRBdLrvzp1pcO4e/qsW",
      "include_colab_link": true
    },
    "kernelspec": {
      "name": "python3",
      "display_name": "Python 3"
    }
  },
  "cells": [
    {
      "cell_type": "markdown",
      "metadata": {
        "id": "view-in-github",
        "colab_type": "text"
      },
      "source": [
        "<a href=\"https://colab.research.google.com/github/josepefg/analises-de-dados/blob/master/airbnb/Airbnb_Sydney.ipynb\" target=\"_parent\"><img src=\"https://colab.research.google.com/assets/colab-badge.svg\" alt=\"Open In Colab\"/></a>"
      ]
    },
    {
      "cell_type": "markdown",
      "metadata": {
        "id": "0o2iney-UUBk",
        "colab_type": "text"
      },
      "source": [
        "<a href=\"https://www.linkedin.com/in/josepegerent\"> <img border=\"0\" alt=\"Linkedin\" src=\"https://img.shields.io/badge/Autor-josepefg-red.svg\"> </a>\n",
        "# **Análise do Airbnb**  \n",
        "Sydney\n",
        "Airbnb"
      ]
    },
    {
      "cell_type": "markdown",
      "metadata": {
        "id": "V4VAxOs1Uk9A",
        "colab_type": "text"
      },
      "source": [
        "# **Obtenção dos dados**  "
      ]
    },
    {
      "cell_type": "code",
      "metadata": {
        "id": "zjs6n1q-UFUU",
        "colab_type": "code",
        "colab": {}
      },
      "source": [
        "# importar os pacotes necessários\n",
        "import pandas as pd\n",
        "import matplotlib.pyplot as plt\n",
        "import seaborn as sns\n",
        "\n",
        "%matplotlib inline"
      ],
      "execution_count": 0,
      "outputs": []
    },
    {
      "cell_type": "code",
      "metadata": {
        "id": "Wqi33-JwU08e",
        "colab_type": "code",
        "colab": {}
      },
      "source": [
        "# importar o arquivo listings.csv para um DataFrame\n",
        "df = pd.read_csv(\"http://data.insideairbnb.com/australia/nsw/sydney/2020-06-11/visualisations/listings.csv\")"
      ],
      "execution_count": 0,
      "outputs": []
    },
    {
      "cell_type": "markdown",
      "metadata": {
        "id": "mubtH6NBVH85",
        "colab_type": "text"
      },
      "source": [
        "# **Análise dos dados**"
      ]
    },
    {
      "cell_type": "markdown",
      "metadata": {
        "id": "RYgvuebKNg8-",
        "colab_type": "text"
      },
      "source": [
        "**Dicionário das variáveis**\n",
        "\n",
        "* `id` - número de id gerado para identificar o imóvel\n",
        "* `name` - nome da propriedade anunciada\n",
        "* `host_id` - número de id do proprietário (anfitrião) da propriedade\n",
        "* `host_name` - Nome do anfitrião\n",
        "* `neighbourhood_group` - esta coluna não contém nenhum valor válido\n",
        "* `neighbourhood` - nome do bairro\n",
        "* `latitude` - coordenada da latitude da propriedade\n",
        "* `longitude` - coordenada da longitude da propriedade\n",
        "* `room_type` - informa o tipo de quarto que é oferecido\n",
        "* `price` - preço para alugar o imóvel\n",
        "* `minimum_nights` - quantidade mínima de noites para reservar\n",
        "* `number_of_reviews` - número de reviews que a propriedade possui\n",
        "* `last_review` - data do último review\n",
        "* `reviews_per_month` - quantidade de reviews por mês\n",
        "* `calculated_host_listings_count` - quantidade de imóveis do mesmo anfitrião\n",
        "* `availability_365` - número de dias de disponibilidade dentro de 365 dias\n",
        "\n",
        "Antes de iniciar qualquer análise, vamos verificar a cara do nosso *dataset*, analisando as 5 primeiras entradas."
      ]
    },
    {
      "cell_type": "code",
      "metadata": {
        "id": "1i9L8VYwWJjp",
        "colab_type": "code",
        "colab": {
          "base_uri": "https://localhost:8080/",
          "height": 394
        },
        "outputId": "91c0cf9d-5599-443c-ec43-1b399f98bbcb"
      },
      "source": [
        "df.head()"
      ],
      "execution_count": 8,
      "outputs": [
        {
          "output_type": "execute_result",
          "data": {
            "text/html": [
              "<div>\n",
              "<style scoped>\n",
              "    .dataframe tbody tr th:only-of-type {\n",
              "        vertical-align: middle;\n",
              "    }\n",
              "\n",
              "    .dataframe tbody tr th {\n",
              "        vertical-align: top;\n",
              "    }\n",
              "\n",
              "    .dataframe thead th {\n",
              "        text-align: right;\n",
              "    }\n",
              "</style>\n",
              "<table border=\"1\" class=\"dataframe\">\n",
              "  <thead>\n",
              "    <tr style=\"text-align: right;\">\n",
              "      <th></th>\n",
              "      <th>id</th>\n",
              "      <th>name</th>\n",
              "      <th>host_id</th>\n",
              "      <th>host_name</th>\n",
              "      <th>neighbourhood_group</th>\n",
              "      <th>neighbourhood</th>\n",
              "      <th>latitude</th>\n",
              "      <th>longitude</th>\n",
              "      <th>room_type</th>\n",
              "      <th>price</th>\n",
              "      <th>minimum_nights</th>\n",
              "      <th>number_of_reviews</th>\n",
              "      <th>last_review</th>\n",
              "      <th>reviews_per_month</th>\n",
              "      <th>calculated_host_listings_count</th>\n",
              "      <th>availability_365</th>\n",
              "    </tr>\n",
              "  </thead>\n",
              "  <tbody>\n",
              "    <tr>\n",
              "      <th>0</th>\n",
              "      <td>11156</td>\n",
              "      <td>An Oasis in the City</td>\n",
              "      <td>40855</td>\n",
              "      <td>Colleen</td>\n",
              "      <td>NaN</td>\n",
              "      <td>Sydney</td>\n",
              "      <td>-33.86917</td>\n",
              "      <td>151.22656</td>\n",
              "      <td>Private room</td>\n",
              "      <td>64</td>\n",
              "      <td>2</td>\n",
              "      <td>196</td>\n",
              "      <td>2020-03-13</td>\n",
              "      <td>1.53</td>\n",
              "      <td>1</td>\n",
              "      <td>364</td>\n",
              "    </tr>\n",
              "    <tr>\n",
              "      <th>1</th>\n",
              "      <td>12351</td>\n",
              "      <td>Sydney City &amp; Harbour at the door</td>\n",
              "      <td>17061</td>\n",
              "      <td>Stuart</td>\n",
              "      <td>NaN</td>\n",
              "      <td>Sydney</td>\n",
              "      <td>-33.86515</td>\n",
              "      <td>151.19190</td>\n",
              "      <td>Private room</td>\n",
              "      <td>14314</td>\n",
              "      <td>2</td>\n",
              "      <td>526</td>\n",
              "      <td>2019-09-22</td>\n",
              "      <td>4.37</td>\n",
              "      <td>2</td>\n",
              "      <td>0</td>\n",
              "    </tr>\n",
              "    <tr>\n",
              "      <th>2</th>\n",
              "      <td>14250</td>\n",
              "      <td>Manly Harbour House</td>\n",
              "      <td>55948</td>\n",
              "      <td>Heidi</td>\n",
              "      <td>NaN</td>\n",
              "      <td>Manly</td>\n",
              "      <td>-33.80093</td>\n",
              "      <td>151.26172</td>\n",
              "      <td>Entire home/apt</td>\n",
              "      <td>471</td>\n",
              "      <td>5</td>\n",
              "      <td>2</td>\n",
              "      <td>2019-01-02</td>\n",
              "      <td>0.04</td>\n",
              "      <td>2</td>\n",
              "      <td>173</td>\n",
              "    </tr>\n",
              "    <tr>\n",
              "      <th>3</th>\n",
              "      <td>44545</td>\n",
              "      <td>Sunny Darlinghurst Warehouse Apartment</td>\n",
              "      <td>112237</td>\n",
              "      <td>Atari</td>\n",
              "      <td>NaN</td>\n",
              "      <td>Sydney</td>\n",
              "      <td>-33.87888</td>\n",
              "      <td>151.21439</td>\n",
              "      <td>Entire home/apt</td>\n",
              "      <td>130</td>\n",
              "      <td>3</td>\n",
              "      <td>76</td>\n",
              "      <td>2020-01-03</td>\n",
              "      <td>0.65</td>\n",
              "      <td>1</td>\n",
              "      <td>0</td>\n",
              "    </tr>\n",
              "    <tr>\n",
              "      <th>4</th>\n",
              "      <td>58506</td>\n",
              "      <td>Studio Yindi @ Mosman, Sydney</td>\n",
              "      <td>279955</td>\n",
              "      <td>John</td>\n",
              "      <td>NaN</td>\n",
              "      <td>Mosman</td>\n",
              "      <td>-33.81927</td>\n",
              "      <td>151.23652</td>\n",
              "      <td>Entire home/apt</td>\n",
              "      <td>140</td>\n",
              "      <td>2</td>\n",
              "      <td>280</td>\n",
              "      <td>2020-04-23</td>\n",
              "      <td>2.43</td>\n",
              "      <td>1</td>\n",
              "      <td>267</td>\n",
              "    </tr>\n",
              "  </tbody>\n",
              "</table>\n",
              "</div>"
            ],
            "text/plain": [
              "      id  ... availability_365\n",
              "0  11156  ...              364\n",
              "1  12351  ...                0\n",
              "2  14250  ...              173\n",
              "3  44545  ...                0\n",
              "4  58506  ...              267\n",
              "\n",
              "[5 rows x 16 columns]"
            ]
          },
          "metadata": {
            "tags": []
          },
          "execution_count": 8
        }
      ]
    },
    {
      "cell_type": "markdown",
      "metadata": {
        "id": "59b3AkRXV4Ew",
        "colab_type": "text"
      },
      "source": [
        "## Quais as dimensões do dataset?"
      ]
    },
    {
      "cell_type": "code",
      "metadata": {
        "id": "UVWc_P5bV7ou",
        "colab_type": "code",
        "colab": {
          "base_uri": "https://localhost:8080/",
          "height": 34
        },
        "outputId": "206108fb-6c3c-4cc6-fb65-bab169fb3697"
      },
      "source": [
        "df.shape"
      ],
      "execution_count": 7,
      "outputs": [
        {
          "output_type": "execute_result",
          "data": {
            "text/plain": [
              "(36901, 16)"
            ]
          },
          "metadata": {
            "tags": []
          },
          "execution_count": 7
        }
      ]
    },
    {
      "cell_type": "markdown",
      "metadata": {
        "id": "UvkZaNxTVmbx",
        "colab_type": "text"
      },
      "source": [
        "## Quais os tipos das colunas?"
      ]
    },
    {
      "cell_type": "code",
      "metadata": {
        "id": "pHNDURAaU_6Q",
        "colab_type": "code",
        "colab": {
          "base_uri": "https://localhost:8080/",
          "height": 408
        },
        "outputId": "d861c5dc-1f4f-49f8-d342-9a48ae0b6106"
      },
      "source": [
        "df.info()"
      ],
      "execution_count": 5,
      "outputs": [
        {
          "output_type": "stream",
          "text": [
            "<class 'pandas.core.frame.DataFrame'>\n",
            "RangeIndex: 36901 entries, 0 to 36900\n",
            "Data columns (total 16 columns):\n",
            " #   Column                          Non-Null Count  Dtype  \n",
            "---  ------                          --------------  -----  \n",
            " 0   id                              36901 non-null  int64  \n",
            " 1   name                            36889 non-null  object \n",
            " 2   host_id                         36901 non-null  int64  \n",
            " 3   host_name                       36894 non-null  object \n",
            " 4   neighbourhood_group             0 non-null      float64\n",
            " 5   neighbourhood                   36901 non-null  object \n",
            " 6   latitude                        36901 non-null  float64\n",
            " 7   longitude                       36901 non-null  float64\n",
            " 8   room_type                       36901 non-null  object \n",
            " 9   price                           36901 non-null  int64  \n",
            " 10  minimum_nights                  36901 non-null  int64  \n",
            " 11  number_of_reviews               36901 non-null  int64  \n",
            " 12  last_review                     26628 non-null  object \n",
            " 13  reviews_per_month               26628 non-null  float64\n",
            " 14  calculated_host_listings_count  36901 non-null  int64  \n",
            " 15  availability_365                36901 non-null  int64  \n",
            "dtypes: float64(4), int64(7), object(5)\n",
            "memory usage: 4.5+ MB\n"
          ],
          "name": "stdout"
        }
      ]
    },
    {
      "cell_type": "markdown",
      "metadata": {
        "id": "EHQh9yy-WRIf",
        "colab_type": "text"
      },
      "source": [
        "Aqui já podemos perceber que a coluna neighbourhood_group não tem nenhum valor preenchido, então já é uma candidata a ser excluída."
      ]
    },
    {
      "cell_type": "markdown",
      "metadata": {
        "id": "BVI6sx9FYFYS",
        "colab_type": "text"
      },
      "source": [
        "## Qual a porcentagem de valores ausentes de cada coluna?"
      ]
    },
    {
      "cell_type": "code",
      "metadata": {
        "id": "zhNZbf-NWQnS",
        "colab_type": "code",
        "colab": {
          "base_uri": "https://localhost:8080/",
          "height": 306
        },
        "outputId": "e6a9092f-84b1-40cb-e005-793a154d3922"
      },
      "source": [
        "# ordenar em ordem decrescente as variáveis por seus valores ausentes\n",
        "(df.isnull().sum() / df.shape[0]).sort_values(ascending=False)"
      ],
      "execution_count": 10,
      "outputs": [
        {
          "output_type": "execute_result",
          "data": {
            "text/plain": [
              "neighbourhood_group               1.000000\n",
              "reviews_per_month                 0.278394\n",
              "last_review                       0.278394\n",
              "name                              0.000325\n",
              "host_name                         0.000190\n",
              "availability_365                  0.000000\n",
              "calculated_host_listings_count    0.000000\n",
              "number_of_reviews                 0.000000\n",
              "minimum_nights                    0.000000\n",
              "price                             0.000000\n",
              "room_type                         0.000000\n",
              "longitude                         0.000000\n",
              "latitude                          0.000000\n",
              "neighbourhood                     0.000000\n",
              "host_id                           0.000000\n",
              "id                                0.000000\n",
              "dtype: float64"
            ]
          },
          "metadata": {
            "tags": []
          },
          "execution_count": 10
        }
      ]
    },
    {
      "cell_type": "markdown",
      "metadata": {
        "id": "OZkdqs8eY7dN",
        "colab_type": "text"
      },
      "source": [
        "## Como estão distribuídas as variáveis?"
      ]
    },
    {
      "cell_type": "code",
      "metadata": {
        "id": "oHZDMmUoY2L8",
        "colab_type": "code",
        "colab": {
          "base_uri": "https://localhost:8080/",
          "height": 607
        },
        "outputId": "705c3edc-0c2c-4ae7-a6af-c2e452946ffe"
      },
      "source": [
        "# plotar o histograma das variáveis numéricas\n",
        "df.hist(bins=15, figsize=(15,10));"
      ],
      "execution_count": 12,
      "outputs": [
        {
          "output_type": "display_data",
          "data": {
            "image/png": "[encoded data removed]",
            "text/plain": [
              "<Figure size 1080x720 with 12 Axes>"
            ]
          },
          "metadata": {
            "tags": [],
            "needs_background": "light"
          }
        }
      ]
    },
    {
      "cell_type": "markdown",
      "metadata": {
        "id": "5Czm4ZUmZe6u",
        "colab_type": "text"
      },
      "source": [
        "## Há outliers nesse dataset?"
      ]
    },
    {
      "cell_type": "markdown",
      "metadata": {
        "id": "6qzvUAGJZlZJ",
        "colab_type": "text"
      },
      "source": [
        "### Resumo estatístico."
      ]
    },
    {
      "cell_type": "code",
      "metadata": {
        "id": "rq_CutEmVr2-",
        "colab_type": "code",
        "colab": {
          "base_uri": "https://localhost:8080/",
          "height": 317
        },
        "outputId": "f92313f4-0f4e-4563-ca38-ffd13af4e980"
      },
      "source": [
        "# resumo estatístico dos dados numéricos\n",
        "df.describe()"
      ],
      "execution_count": 13,
      "outputs": [
        {
          "output_type": "execute_result",
          "data": {
            "text/html": [
              "<div>\n",
              "<style scoped>\n",
              "    .dataframe tbody tr th:only-of-type {\n",
              "        vertical-align: middle;\n",
              "    }\n",
              "\n",
              "    .dataframe tbody tr th {\n",
              "        vertical-align: top;\n",
              "    }\n",
              "\n",
              "    .dataframe thead th {\n",
              "        text-align: right;\n",
              "    }\n",
              "</style>\n",
              "<table border=\"1\" class=\"dataframe\">\n",
              "  <thead>\n",
              "    <tr style=\"text-align: right;\">\n",
              "      <th></th>\n",
              "      <th>id</th>\n",
              "      <th>host_id</th>\n",
              "      <th>neighbourhood_group</th>\n",
              "      <th>latitude</th>\n",
              "      <th>longitude</th>\n",
              "      <th>price</th>\n",
              "      <th>minimum_nights</th>\n",
              "      <th>number_of_reviews</th>\n",
              "      <th>reviews_per_month</th>\n",
              "      <th>calculated_host_listings_count</th>\n",
              "      <th>availability_365</th>\n",
              "    </tr>\n",
              "  </thead>\n",
              "  <tbody>\n",
              "    <tr>\n",
              "      <th>count</th>\n",
              "      <td>3.690100e+04</td>\n",
              "      <td>3.690100e+04</td>\n",
              "      <td>0.0</td>\n",
              "      <td>36901.000000</td>\n",
              "      <td>36901.000000</td>\n",
              "      <td>36901.000000</td>\n",
              "      <td>36901.000000</td>\n",
              "      <td>36901.000000</td>\n",
              "      <td>26628.000000</td>\n",
              "      <td>36901.000000</td>\n",
              "      <td>36901.000000</td>\n",
              "    </tr>\n",
              "    <tr>\n",
              "      <th>mean</th>\n",
              "      <td>2.453288e+07</td>\n",
              "      <td>9.131863e+07</td>\n",
              "      <td>NaN</td>\n",
              "      <td>-33.863215</td>\n",
              "      <td>151.198786</td>\n",
              "      <td>227.003333</td>\n",
              "      <td>6.106257</td>\n",
              "      <td>14.866995</td>\n",
              "      <td>0.784623</td>\n",
              "      <td>7.252134</td>\n",
              "      <td>95.462697</td>\n",
              "    </tr>\n",
              "    <tr>\n",
              "      <th>std</th>\n",
              "      <td>1.228760e+07</td>\n",
              "      <td>9.191494e+07</td>\n",
              "      <td>NaN</td>\n",
              "      <td>0.072964</td>\n",
              "      <td>0.088700</td>\n",
              "      <td>443.456850</td>\n",
              "      <td>27.658358</td>\n",
              "      <td>36.144464</td>\n",
              "      <td>1.172487</td>\n",
              "      <td>22.746438</td>\n",
              "      <td>129.994717</td>\n",
              "    </tr>\n",
              "    <tr>\n",
              "      <th>min</th>\n",
              "      <td>1.115600e+04</td>\n",
              "      <td>1.409300e+04</td>\n",
              "      <td>NaN</td>\n",
              "      <td>-34.135590</td>\n",
              "      <td>150.601470</td>\n",
              "      <td>0.000000</td>\n",
              "      <td>1.000000</td>\n",
              "      <td>0.000000</td>\n",
              "      <td>0.010000</td>\n",
              "      <td>1.000000</td>\n",
              "      <td>0.000000</td>\n",
              "    </tr>\n",
              "    <tr>\n",
              "      <th>25%</th>\n",
              "      <td>1.499574e+07</td>\n",
              "      <td>1.828597e+07</td>\n",
              "      <td>NaN</td>\n",
              "      <td>-33.899450</td>\n",
              "      <td>151.175530</td>\n",
              "      <td>79.000000</td>\n",
              "      <td>1.000000</td>\n",
              "      <td>0.000000</td>\n",
              "      <td>0.100000</td>\n",
              "      <td>1.000000</td>\n",
              "      <td>0.000000</td>\n",
              "    </tr>\n",
              "    <tr>\n",
              "      <th>50%</th>\n",
              "      <td>2.379250e+07</td>\n",
              "      <td>5.116167e+07</td>\n",
              "      <td>NaN</td>\n",
              "      <td>-33.882000</td>\n",
              "      <td>151.213460</td>\n",
              "      <td>130.000000</td>\n",
              "      <td>2.000000</td>\n",
              "      <td>2.000000</td>\n",
              "      <td>0.300000</td>\n",
              "      <td>1.000000</td>\n",
              "      <td>0.000000</td>\n",
              "    </tr>\n",
              "    <tr>\n",
              "      <th>75%</th>\n",
              "      <td>3.577880e+07</td>\n",
              "      <td>1.506891e+08</td>\n",
              "      <td>NaN</td>\n",
              "      <td>-33.829520</td>\n",
              "      <td>151.258910</td>\n",
              "      <td>220.000000</td>\n",
              "      <td>5.000000</td>\n",
              "      <td>11.000000</td>\n",
              "      <td>0.990000</td>\n",
              "      <td>2.000000</td>\n",
              "      <td>178.000000</td>\n",
              "    </tr>\n",
              "    <tr>\n",
              "      <th>max</th>\n",
              "      <td>4.373676e+07</td>\n",
              "      <td>3.492491e+08</td>\n",
              "      <td>NaN</td>\n",
              "      <td>-33.390750</td>\n",
              "      <td>151.339870</td>\n",
              "      <td>15000.000000</td>\n",
              "      <td>1125.000000</td>\n",
              "      <td>657.000000</td>\n",
              "      <td>28.820000</td>\n",
              "      <td>176.000000</td>\n",
              "      <td>365.000000</td>\n",
              "    </tr>\n",
              "  </tbody>\n",
              "</table>\n",
              "</div>"
            ],
            "text/plain": [
              "                 id  ...  availability_365\n",
              "count  3.690100e+04  ...      36901.000000\n",
              "mean   2.453288e+07  ...         95.462697\n",
              "std    1.228760e+07  ...        129.994717\n",
              "min    1.115600e+04  ...          0.000000\n",
              "25%    1.499574e+07  ...          0.000000\n",
              "50%    2.379250e+07  ...          0.000000\n",
              "75%    3.577880e+07  ...        178.000000\n",
              "max    4.373676e+07  ...        365.000000\n",
              "\n",
              "[8 rows x 11 columns]"
            ]
          },
          "metadata": {
            "tags": []
          },
          "execution_count": 13
        }
      ]
    },
    {
      "cell_type": "code",
      "metadata": {
        "id": "vt01vkZvZpQs",
        "colab_type": "code",
        "colab": {
          "base_uri": "https://localhost:8080/",
          "height": 173
        },
        "outputId": "1cb999c1-bbe5-4b8a-f4bf-3628ad3abc58"
      },
      "source": [
        "# estatística dos dados categóricos\n",
        "df.describe(include=['O'])"
      ],
      "execution_count": 16,
      "outputs": [
        {
          "output_type": "execute_result",
          "data": {
            "text/html": [
              "<div>\n",
              "<style scoped>\n",
              "    .dataframe tbody tr th:only-of-type {\n",
              "        vertical-align: middle;\n",
              "    }\n",
              "\n",
              "    .dataframe tbody tr th {\n",
              "        vertical-align: top;\n",
              "    }\n",
              "\n",
              "    .dataframe thead th {\n",
              "        text-align: right;\n",
              "    }\n",
              "</style>\n",
              "<table border=\"1\" class=\"dataframe\">\n",
              "  <thead>\n",
              "    <tr style=\"text-align: right;\">\n",
              "      <th></th>\n",
              "      <th>name</th>\n",
              "      <th>host_name</th>\n",
              "      <th>neighbourhood</th>\n",
              "      <th>room_type</th>\n",
              "      <th>last_review</th>\n",
              "    </tr>\n",
              "  </thead>\n",
              "  <tbody>\n",
              "    <tr>\n",
              "      <th>count</th>\n",
              "      <td>36889</td>\n",
              "      <td>36894</td>\n",
              "      <td>36901</td>\n",
              "      <td>36901</td>\n",
              "      <td>26628</td>\n",
              "    </tr>\n",
              "    <tr>\n",
              "      <th>unique</th>\n",
              "      <td>35976</td>\n",
              "      <td>8205</td>\n",
              "      <td>38</td>\n",
              "      <td>4</td>\n",
              "      <td>1868</td>\n",
              "    </tr>\n",
              "    <tr>\n",
              "      <th>top</th>\n",
              "      <td>Home away from home</td>\n",
              "      <td>David</td>\n",
              "      <td>Sydney</td>\n",
              "      <td>Entire home/apt</td>\n",
              "      <td>2020-01-01</td>\n",
              "    </tr>\n",
              "    <tr>\n",
              "      <th>freq</th>\n",
              "      <td>22</td>\n",
              "      <td>344</td>\n",
              "      <td>9364</td>\n",
              "      <td>22641</td>\n",
              "      <td>447</td>\n",
              "    </tr>\n",
              "  </tbody>\n",
              "</table>\n",
              "</div>"
            ],
            "text/plain": [
              "                       name host_name  ...        room_type last_review\n",
              "count                 36889     36894  ...            36901       26628\n",
              "unique                35976      8205  ...                4        1868\n",
              "top     Home away from home     David  ...  Entire home/apt  2020-01-01\n",
              "freq                     22       344  ...            22641         447\n",
              "\n",
              "[4 rows x 5 columns]"
            ]
          },
          "metadata": {
            "tags": []
          },
          "execution_count": 16
        }
      ]
    },
    {
      "cell_type": "markdown",
      "metadata": {
        "id": "vPgdXq80bEOf",
        "colab_type": "text"
      },
      "source": [
        "### Boxplot das variáveis com outliers."
      ]
    },
    {
      "cell_type": "markdown",
      "metadata": {
        "id": "xaxjHV4KcJiA",
        "colab_type": "text"
      },
      "source": [
        "#### price"
      ]
    },
    {
      "cell_type": "code",
      "metadata": {
        "id": "ig26ftw7ZzCd",
        "colab_type": "code",
        "colab": {
          "base_uri": "https://localhost:8080/",
          "height": 279
        },
        "outputId": "e9f577df-2d21-4a75-9923-a785ed3f4f33"
      },
      "source": [
        "# price\n",
        "df.price.plot(kind='box', vert=False, figsize=(15, 3),)\n",
        "plt.show()\n",
        "\n",
        "price_1std = df.price.mean()+df.price.std()\n",
        "\n",
        "# ver quantidade de valores acima de 1 desvio padrão para price\n",
        "print(\"\\nprice: valores acima de {}:\".format(price_1std))\n",
        "print(\"{} entradas\".format(len(df[df.price > price_1std])))\n",
        "print(\"{:.4f}%\".format((len(df[df.price > price_1std]) / df.shape[0])*100))\n",
        "\n",
        "# df.price.plot(kind='box', vert=False, xlim=(0,1300), figsize=(15,3));"
      ],
      "execution_count": 30,
      "outputs": [
        {
          "output_type": "display_data",
          "data": {
            "image/png": "[encoded data removed]",
            "text/plain": [
              "<Figure size 1080x216 with 1 Axes>"
            ]
          },
          "metadata": {
            "tags": [],
            "needs_background": "light"
          }
        },
        {
          "output_type": "stream",
          "text": [
            "\n",
            "price: valores acima de 670.4601831614208:\n",
            "1901 entradas\n",
            "5.1516%\n"
          ],
          "name": "stdout"
        }
      ]
    },
    {
      "cell_type": "markdown",
      "metadata": {
        "id": "wlczxBqHcN2y",
        "colab_type": "text"
      },
      "source": [
        "#### minimun_nights"
      ]
    },
    {
      "cell_type": "code",
      "metadata": {
        "id": "BVOpuw20bUlL",
        "colab_type": "code",
        "colab": {
          "base_uri": "https://localhost:8080/",
          "height": 262
        },
        "outputId": "46e473b9-21d5-4dad-ec2d-6d2199903570"
      },
      "source": [
        "# minimum_nights\n",
        "df.minimum_nights.plot(kind='box', vert=False, figsize=(15, 3))\n",
        "plt.show()\n",
        "\n",
        "minimum_nights_1std = df.minimum_nights.mean()+df.minimum_nights.std()\n",
        "\n",
        "\n",
        "# ver quantidade de valores acima de 1 desvio padrão para minimum_nights\n",
        "print(\"minimum_nights: valores acima de {}:\".format(minimum_nights_1std))\n",
        "print(\"{} entradas\".format(len(df[df.minimum_nights > minimum_nights_1std])))\n",
        "print(\"{:.4f}%\".format((len(df[df.minimum_nights > minimum_nights_1std]) / df.shape[0])*100))"
      ],
      "execution_count": 31,
      "outputs": [
        {
          "output_type": "display_data",
          "data": {
            "image/png": "[encoded data removed]",
            "text/plain": [
              "<Figure size 1080x216 with 1 Axes>"
            ]
          },
          "metadata": {
            "tags": [],
            "needs_background": "light"
          }
        },
        {
          "output_type": "stream",
          "text": [
            "minimum_nights: valores acima de 33.76461550514746:\n",
            "640 entradas\n",
            "1.7344%\n"
          ],
          "name": "stdout"
        }
      ]
    },
    {
      "cell_type": "markdown",
      "metadata": {
        "id": "rs91gmqBcwEB",
        "colab_type": "text"
      },
      "source": [
        "#### number_of_reviews"
      ]
    },
    {
      "cell_type": "code",
      "metadata": {
        "id": "eVceKNfWchfM",
        "colab_type": "code",
        "colab": {
          "base_uri": "https://localhost:8080/",
          "height": 260
        },
        "outputId": "a1726c90-2cb7-48c4-b6e0-29c8685eddc0"
      },
      "source": [
        "# number_of_reviews\n",
        "df.number_of_reviews.plot(kind='box', vert=False, figsize=(15, 3))\n",
        "plt.show()\n",
        "\n",
        "number_of_reviews_1std = df.number_of_reviews.mean()+df.number_of_reviews.std()\n",
        "\n",
        "\n",
        "# ver quantidade de valores acima de 1 desvio padrão para number_of_reviews\n",
        "print(\"number_of_reviews: valores acima de {}:\".format(number_of_reviews_1std))\n",
        "print(\"{} entradas\".format(len(df[df.number_of_reviews > number_of_reviews_1std])))\n",
        "print(\"{:.4f}%\".format((len(df[df.number_of_reviews > number_of_reviews_1std]) / df.shape[0])*100))"
      ],
      "execution_count": 32,
      "outputs": [
        {
          "output_type": "display_data",
          "data": {
            "image/png": "[encoded data removed]",
            "text/plain": [
              "<Figure size 1080x216 with 1 Axes>"
            ]
          },
          "metadata": {
            "tags": [],
            "needs_background": "light"
          }
        },
        {
          "output_type": "stream",
          "text": [
            "number_of_reviews: valores acima de 51.01145915993561:\n",
            "3013 entradas\n",
            "8.1651%\n"
          ],
          "name": "stdout"
        }
      ]
    },
    {
      "cell_type": "markdown",
      "metadata": {
        "id": "vakLFQpndKtC",
        "colab_type": "text"
      },
      "source": [
        "#### reviews_per_month"
      ]
    },
    {
      "cell_type": "code",
      "metadata": {
        "id": "pkZj4n2pdF5i",
        "colab_type": "code",
        "colab": {
          "base_uri": "https://localhost:8080/",
          "height": 260
        },
        "outputId": "76a2118e-fee6-4427-b4a3-1de0643c037b"
      },
      "source": [
        "# reviews_per_month\n",
        "df.reviews_per_month.plot(kind='box', vert=False, figsize=(15, 3))\n",
        "plt.show()\n",
        "\n",
        "reviews_per_month_1std = df.reviews_per_month.mean()+df.reviews_per_month.std()\n",
        "\n",
        "\n",
        "# ver quantidade de valores acima de 1 desvio padrão para reviews_per_month\n",
        "print(\"reviews_per_month: valores acima de {}:\".format(reviews_per_month_1std))\n",
        "print(\"{} entradas\".format(len(df[df.reviews_per_month > reviews_per_month_1std])))\n",
        "print(\"{:.4f}%\".format((len(df[df.reviews_per_month > reviews_per_month_1std]) / df.shape[0])*100))"
      ],
      "execution_count": 35,
      "outputs": [
        {
          "output_type": "display_data",
          "data": {
            "image/png": "[encoded data removed]",
            "text/plain": [
              "<Figure size 1080x216 with 1 Axes>"
            ]
          },
          "metadata": {
            "tags": [],
            "needs_background": "light"
          }
        },
        {
          "output_type": "stream",
          "text": [
            "reviews_per_month: valores acima de 1.9571092439392546:\n",
            "3243 entradas\n",
            "8.7884%\n"
          ],
          "name": "stdout"
        }
      ]
    },
    {
      "cell_type": "markdown",
      "metadata": {
        "id": "hAdCMJAceOu5",
        "colab_type": "text"
      },
      "source": [
        "#### calculated_host_listings_count"
      ]
    },
    {
      "cell_type": "code",
      "metadata": {
        "id": "j2zNvb6UdbZI",
        "colab_type": "code",
        "colab": {
          "base_uri": "https://localhost:8080/",
          "height": 249
        },
        "outputId": "9ae0e59c-bddb-4029-fc3c-d3d8e12a0a28"
      },
      "source": [
        "# calculated_host_listings_count\n",
        "df.calculated_host_listings_count.plot(kind='box', vert=False, figsize=(15, 3))\n",
        "plt.show()\n",
        "\n",
        "calculated_host_listings_count_1std = df.calculated_host_listings_count.mean()+df.calculated_host_listings_count.std()\n",
        "\n",
        "\n",
        "# ver quantidade de valores acima de 1 desvio padrão para calculated_host_listings_count\n",
        "print(\"calculated_host_listings_count: valores acima de {}:\".format(calculated_host_listings_count_1std))\n",
        "print(\"{} entradas\".format(len(df[df.calculated_host_listings_count > calculated_host_listings_count_1std])))\n",
        "print(\"{:.4f}%\".format((len(df[df.calculated_host_listings_count > calculated_host_listings_count_1std]) / df.shape[0])*100))"
      ],
      "execution_count": 36,
      "outputs": [
        {
          "output_type": "display_data",
          "data": {
            "image/png": "[encoded data removed]",
            "text/plain": [
              "<Figure size 1080x216 with 1 Axes>"
            ]
          },
          "metadata": {
            "tags": [],
            "needs_background": "light"
          }
        },
        {
          "output_type": "stream",
          "text": [
            "calculated_host_listings_count: valores acima de 29.998571996865515:\n",
            "2139 entradas\n",
            "5.7966%\n"
          ],
          "name": "stdout"
        }
      ]
    },
    {
      "cell_type": "markdown",
      "metadata": {
        "id": "6TU0SthKet-5",
        "colab_type": "text"
      },
      "source": [
        "#### availability_365"
      ]
    },
    {
      "cell_type": "code",
      "metadata": {
        "id": "-viTvu-Kees7",
        "colab_type": "code",
        "colab": {
          "base_uri": "https://localhost:8080/",
          "height": 262
        },
        "outputId": "bdbd418f-a475-472d-a2f8-f82716efab89"
      },
      "source": [
        "# availability_365\n",
        "df.availability_365.plot(kind='box', vert=False, figsize=(15, 3))\n",
        "plt.show()\n",
        "\n",
        "availability_365_1std = df.availability_365.mean()+df.availability_365.std()\n",
        "\n",
        "\n",
        "# ver quantidade de valores acima de 1 desvio padrão para availability_365\n",
        "print(\"availability_365: valores acima de {}:\".format(availability_365_1std))\n",
        "print(\"{} entradas\".format(len(df[df.availability_365 > availability_365_1std])))\n",
        "print(\"{:.4f}%\".format((len(df[df.availability_365 > availability_365_1std]) / df.shape[0])*100))"
      ],
      "execution_count": 42,
      "outputs": [
        {
          "output_type": "display_data",
          "data": {
            "image/png": "[encoded data removed]",
            "text/plain": [
              "<Figure size 1080x216 with 1 Axes>"
            ]
          },
          "metadata": {
            "tags": [],
            "needs_background": "light"
          }
        },
        {
          "output_type": "stream",
          "text": [
            "availability_365: valores acima de 225.45741406833608:\n",
            "6953 entradas\n",
            "18.8423%\n"
          ],
          "name": "stdout"
        }
      ]
    },
    {
      "cell_type": "markdown",
      "metadata": {
        "id": "NlnEmbHhfdCQ",
        "colab_type": "text"
      },
      "source": [
        "### Histogramas sem outliers"
      ]
    },
    {
      "cell_type": "code",
      "metadata": {
        "id": "ZSUbRt2XfBQk",
        "colab_type": "code",
        "colab": {}
      },
      "source": [
        "# criando uma cópia do dataframe\n",
        "df_cp = df.copy()"
      ],
      "execution_count": 0,
      "outputs": []
    },
    {
      "cell_type": "code",
      "metadata": {
        "id": "TGJnNpARfufa",
        "colab_type": "code",
        "colab": {
          "base_uri": "https://localhost:8080/",
          "height": 607
        },
        "outputId": "dd435414-eca9-4ff8-b0f1-14270a393b18"
      },
      "source": [
        "# remover os *outliers* em um novo DataFrame e colunas vazias\n",
        "df_clean = df_cp.copy()\n",
        "df_clean.drop(df_clean[df_clean.price > price_1std].index, axis=0, inplace=True)\n",
        "df_clean.drop(df_clean[df_clean.minimum_nights > minimum_nights_1std].index, axis=0, inplace=True)\n",
        "df_clean.drop(df_clean[df_clean.number_of_reviews > number_of_reviews_1std].index, axis=0, inplace=True)\n",
        "df_clean.drop(df_clean[df_clean.reviews_per_month > reviews_per_month_1std].index, axis=0, inplace=True)\n",
        "df_clean.drop(df_clean[df_clean.calculated_host_listings_count > calculated_host_listings_count_1std].index, axis=0, inplace=True)\n",
        "df_clean.drop(df_clean[df_clean.availability_365 > availability_365_1std].index, axis=0, inplace=True)\n",
        "\n",
        "# remover `neighbourhood_group`, pois está vazio\n",
        "df_clean.drop('neighbourhood_group', axis=1, inplace=True)\n",
        "\n",
        "# remover \"host_id\" e \"id\" pois são variáveis sem valor estatístico\n",
        "df_clean.drop('host_id', axis=1, inplace=True)\n",
        "df_clean.drop('id', axis=1, inplace=True)\n",
        "\n",
        "# plotar o histograma para as variáveis numéricas\n",
        "df_clean.hist(bins=15, figsize=(15,10));"
      ],
      "execution_count": 47,
      "outputs": [
        {
          "output_type": "display_data",
          "data": {
            "image/png": "[encoded data removed]",
            "text/plain": [
              "<Figure size 1080x720 with 9 Axes>"
            ]
          },
          "metadata": {
            "tags": [],
            "needs_background": "light"
          }
        }
      ]
    },
    {
      "cell_type": "code",
      "metadata": {
        "id": "ifFKWqZzgf-X",
        "colab_type": "code",
        "colab": {}
      },
      "source": [
        ""
      ],
      "execution_count": 0,
      "outputs": []
    }
  ]
}