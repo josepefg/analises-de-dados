{
  "nbformat": 4,
  "nbformat_minor": 0,
  "metadata": {
    "colab": {
      "name": "Secretaria da Segurança Pública RS.ipynb",
      "provenance": [],
      "authorship_tag": "ABX9TyN+ZnxTux4Do363gdG7cnJz",
      "include_colab_link": true
    },
    "kernelspec": {
      "name": "python3",
      "display_name": "Python 3"
    }
  },
  "cells": [
    {
      "cell_type": "markdown",
      "metadata": {
        "id": "view-in-github",
        "colab_type": "text"
      },
      "source": [
        "<a href=\"https://colab.research.google.com/github/josepefg/analises-de-dados/blob/master/Secretaria%20da%20Seguran%C3%A7a%20P%C3%BAblica%20RS/Secretaria_da_Seguran%C3%A7a_P%C3%BAblica_RS.ipynb\" target=\"_parent\"><img src=\"https://colab.research.google.com/assets/colab-badge.svg\" alt=\"Open In Colab\"/></a>"
      ]
    },
    {
      "cell_type": "markdown",
      "metadata": {
        "id": "n7kd5qyJXzZf",
        "colab_type": "text"
      },
      "source": [
        "<a href=\"https://www.linkedin.com/in/josepegerent\"> <img border=\"0\" alt=\"Linkedin\" src=\"https://img.shields.io/badge/Autor-josepefg-red.svg\"> </a>\n",
        "# **Análise dos dados da Secretaria da Segurança Pública RS**  \n",
        "A [Secretaria da Segurança Pública do Rio Grande do SUL](https://ssp.rs.gov.br/inicial/) disponibiliza dados estatísticos sobre a segurança do estado na página [Estatísticas](https://ssp.rs.gov.br/estatisticas). \n",
        "\n",
        "<center><img alt=\"Estado do Rio Grande do Sul\" width=\"10%\" src=\"https://www.estado.rs.gov.br/upload/recortes/201707/20075647_1210628_GDO.jpg\"></center>\n",
        "\n",
        "Nesse notebook foi feita a análise dos dados desde o ano anterior ao nascimento do meu primeiro filho (2014) até o ano anterior ao nascimento do meu segundo filho (2019)."
      ]
    },
    {
      "cell_type": "markdown",
      "metadata": {
        "id": "8aaxXj9gaVN-",
        "colab_type": "text"
      },
      "source": [
        "# **Obtenção dos dados**  \n",
        "Os dados foram obtidos da página [Estatística](https://ssp.rs.gov.br/estatisticas) da Secretaría de Segurança Pública do Rio Grande do Sul. Esses dados foram disponibilizados ano a ano, portanto deveremos primeiro baixa-los um por um para depois juntá-los em uma tabela única.  \n"
      ]
    },
    {
      "cell_type": "code",
      "metadata": {
        "id": "ufviiKZwXtpF",
        "colab_type": "code",
        "colab": {}
      },
      "source": [
        "# importar os pacotes necessários\n",
        "import warnings\n",
        "warnings.filterwarnings(\"ignore\", category=Warning)\n",
        "\n",
        "import pandas as pd\n",
        "import matplotlib.pyplot as plt\n",
        "import seaborn as sns\n",
        "\n",
        "sns.set()\n",
        "%matplotlib inline"
      ],
      "execution_count": 2,
      "outputs": []
    },
    {
      "cell_type": "markdown",
      "metadata": {
        "id": "WAho9n_Ieml8",
        "colab_type": "text"
      },
      "source": [
        "Para facilitar já baixei os dados dos anos que serão analisados e salvei no Github. Porém como cada arquivo tinha uma formatação diferente achei melhor tratá-los manualmente primeiro. O arquivo limpo e tratado foi salvo também no Github e será ele que irei utilizar nas análises. "
      ]
    },
    {
      "cell_type": "code",
      "metadata": {
        "id": "ShLUjCHqa6As",
        "colab_type": "code",
        "colab": {}
      },
      "source": [
        "df = pd.read_excel('clean.xlsx')"
      ],
      "execution_count": 8,
      "outputs": []
    },
    {
      "cell_type": "code",
      "metadata": {
        "id": "te_sBAGXb-0X",
        "colab_type": "code",
        "colab": {}
      },
      "source": [
        "df.head(20)"
      ],
      "execution_count": null,
      "outputs": []
    },
    {
      "cell_type": "code",
      "metadata": {
        "id": "sTVB45HdcQSo",
        "colab_type": "code",
        "colab": {}
      },
      "source": [
        ""
      ],
      "execution_count": null,
      "outputs": []
    }
  ]
}